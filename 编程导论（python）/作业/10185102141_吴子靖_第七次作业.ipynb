{
 "cells": [
  {
   "cell_type": "markdown",
   "metadata": {},
   "source": [
    "# 华东师范大学计算机科学技术系作业\n",
    "\n",
    " | 华东师范大学计算机科学技术系作业 | |\n",
    ":- | :- | :- \n",
    " 课程名称：编程导论Python | 年级：2018级| 作业成绩：\n",
    " 指导教师：杨燕 | 姓名：吴子靖 |  提交作业日期：2018年11月14日  \n",
    " 专业：计算机系 | 学号：10185102141 |  作业编号： 6\n",
    " -----------------------------"
   ]
  },
  {
   "cell_type": "markdown",
   "metadata": {},
   "source": [
    "一、 输入一个字符串 ，内容是一个带小数的实数，例如 \"123.45\"，输出是两个整数变量x和y，x是整数部分123，y是小数部分是小数部分45。你可以用split函数来完成。（10分）"
   ]
  },
  {
   "cell_type": "code",
   "execution_count": 1,
   "metadata": {},
   "outputs": [
    {
     "name": "stdout",
     "output_type": "stream",
     "text": [
      "输入一个带小数点的实数123.45\n",
      "整数部分是 123\n",
      "小数部分是 45\n"
     ]
    }
   ],
   "source": [
    "string=input(\"输入一个带小数点的实数\")\n",
    "x=string.split(\".\")[0]\n",
    "y=string.split(\".\")[1]\n",
    "print(\"整数部分是\",x)\n",
    "print(\"小数部分是\",y)"
   ]
  },
  {
   "cell_type": "markdown",
   "metadata": {},
   "source": [
    "二、\t字典符串练习 1。实现一个函数，该函数功能为：删除字符串中出现次数最少的字符，若多个字符出现次数一样，则都删除。输出删除这些单词后的字符串，字符串中其它字符保持原来的顺序。\n",
    "\n",
    "\n",
    "输入： 字符串只包含小写英文母 , 不考虑非法输入，输入的字符串长度小于或等于20个字节（如 abcdd）。<br/>\n",
    "输出： 删除字符串中出现次数最少的字符后的字符串（如 dd）。<br/>\n",
    "（10分）"
   ]
  },
  {
   "cell_type": "code",
   "execution_count": 2,
   "metadata": {},
   "outputs": [
    {
     "name": "stdout",
     "output_type": "stream",
     "text": [
      "输入长度小于等于20字节的字符串abcdd\n",
      "dd\n"
     ]
    }
   ],
   "source": [
    "string=input(\"输入长度小于等于20字节的字符串\")\n",
    "L1=[];L2=[];L3=[];L4=[]\n",
    "for e in string:\n",
    "    if e not in L1:\n",
    "        L1.append(e)\n",
    "        num=string.count(e)\n",
    "        L2.append(num)\n",
    "min_num=min(L2)\n",
    "for i in range (0,len(L2)):\n",
    "    if L2[i]==min_num:\n",
    "        L3.append(i)\n",
    "for j in L3:\n",
    "    L4.append(L1[j])\n",
    "str_new=\"\"\n",
    "for m in string:\n",
    "    if m not in L4:\n",
    "        str_new=str_new+m\n",
    "print(str_new)"
   ]
  },
  {
   "cell_type": "markdown",
   "metadata": {},
   "source": [
    "三、字典符串练习 2。实现一个函数，该函数功能为：假设一篇文章已经存储于一个字符串S中，统计S中每个单词出现的次数。（注意单词后面的标点符号问题）\n",
    "（10分）"
   ]
  },
  {
   "cell_type": "code",
   "execution_count": 3,
   "metadata": {},
   "outputs": [
    {
     "name": "stdout",
     "output_type": "stream",
     "text": [
      "[['Many', 1], ['psychologists', 1], ['find', 1], ['this', 1], ['opinion', 1], ['about', 1], ['as', 3], ['welcome', 1], ['a', 2], ['cut', 1], ['in', 1], ['their', 1], ['research', 1], ['grants', 1], ['They', 1], ['view', 1], ['stereotyping', 1], ['breeding', 1], ['ground', 1]]\n"
     ]
    }
   ],
   "source": [
    "S=\"Many psychologists find this opinion about as welcome as a cut in their research grants.They view stereotyping as a breeding ground.\"\n",
    "L1=[];L2=[];L3=[];L=[];str1=\"\"\n",
    "for e in S:\n",
    "    if e.isalpha()==True:\n",
    "        str1=str1+e\n",
    "    else:\n",
    "        L1=L1+[str1]\n",
    "        str1=\"\"\n",
    "for i in range (0,len(L1)):\n",
    "    if L1[i] not in L2:\n",
    "        L2.append(L1[i])\n",
    "        L3.append(1)\n",
    "    else:\n",
    "        for j in range (0,len(L2)):\n",
    "            if L1[i]==L2[j]:\n",
    "                L3[j]=L3[j]+1\n",
    "for m in range (0,len(L2)):\n",
    "    L=L+[[L2[m],L3[m]]]\n",
    "print(L)"
   ]
  },
  {
   "cell_type": "markdown",
   "metadata": {},
   "source": [
    "四、参数的传递问题练习。现有一个Sum函数，该函数可以求得输入的数字列表L中所有偶数的和，程序如 <程序：参数传递问题练习> 所示。请分析该程序，原列表L是否被修改？说明打印结果是什么？请尝试用多种方法修改程序，使得原列表L不会被修改。\n",
    "（15分）\n",
    "\n",
    "``` python\n",
    "# <程序:参数传递问题练习>\n",
    "def Sum(L):\n",
    "    mysum = 0\n",
    "    i = len(L) - 1\n",
    "    while i >= 0:\n",
    "        if not L[i]%2:\n",
    "            mysum += L.pop(i)\n",
    "        i -= 1\n",
    "    return mysum\n",
    "\n",
    "L = [2, 2, 3, 4, 5]\n",
    "mysum = Sum(L)\n",
    "print(L, mysum)\n",
    "```"
   ]
  },
  {
   "cell_type": "markdown",
   "metadata": {
    "collapsed": true
   },
   "source": [
    "因为pop会将元素弹出列表，从而改变列表本身，因此最后的L是删除了所有偶数的列表\n",
    "即[3,5]，打印结果为2+2+4=8,要使L列表本身不被改变，可以直接调用元素L[i],也可以创建新列表并用sum函数求和"
   ]
  },
  {
   "cell_type": "code",
   "execution_count": 4,
   "metadata": {},
   "outputs": [
    {
     "name": "stdout",
     "output_type": "stream",
     "text": [
      "[2, 2, 3, 4, 5] 8\n"
     ]
    }
   ],
   "source": [
    "def Sum(L):\n",
    "    mysum = 0\n",
    "    i = len(L) - 1\n",
    "    while i >= 0:\n",
    "        if not L[i]%2:\n",
    "            mysum += L[i]\n",
    "        i-= 1\n",
    "    return mysum\n",
    "L = [2, 2, 3, 4, 5]\n",
    "mysum = Sum(L)\n",
    "print(L, mysum)"
   ]
  },
  {
   "cell_type": "code",
   "execution_count": 6,
   "metadata": {},
   "outputs": [
    {
     "name": "stdout",
     "output_type": "stream",
     "text": [
      "[2, 2, 3, 4, 5] 8\n"
     ]
    }
   ],
   "source": [
    "def Sum(L):\n",
    "    L_new=[]\n",
    "    i = len(L) - 1\n",
    "    while i >= 0:\n",
    "        if not L[i]%2:\n",
    "            L_new.append(L[i])\n",
    "        i-= 1\n",
    "    mysum=sum(L_new)\n",
    "    return mysum\n",
    "L = [2, 2, 3, 4, 5]\n",
    "mysum = Sum(L)\n",
    "print(L, mysum)"
   ]
  },
  {
   "cell_type": "markdown",
   "metadata": {},
   "source": [
    "五、默认参数练习。请分析 <程序：默认参数练习> 中的代码，说明每一次的打印结果是什么？当前的默认参数是什么？\n",
    "（10分）\n",
    "``` python\n",
    "def append_l(L=[1,2]):\n",
    "    if L[0]%2:\n",
    "        L.append(0)\n",
    "    else:\n",
    "        L.append(5)\n",
    "    return L\n",
    "\n",
    "print(append_l())\n",
    "print(append_l([2]))\n",
    "print(append_l([3]))\n",
    "print(append_l())\n",
    "```"
   ]
  },
  {
   "cell_type": "markdown",
   "metadata": {
    "collapsed": true
   },
   "source": [
    "1: 当前的默认参数为L=[1,2],因为1%2!=0，所以L.append(0),append函数会直接改变L本身而不产生新的列表因此此时L=[1,2,0]\n",
    "2：当前的参数为[2]，默认参数已经变为[1,2,0]，因为2%2==0，所以打印的结果为[2,5]\n",
    "3：当前的参数为[3]，默认参数已经变为[1,2,0]，因为3%2!=0，所以打印的结果为[3,5]\n",
    "4：括号内没有参数，所以调用默认参数[1,2,0],因为1%2!=0，所以打印的结果为[1,2,0,0],此时的默认参数也变为[1,2,0,0]"
   ]
  },
  {
   "cell_type": "markdown",
   "metadata": {},
   "source": [
    "六、用列表推演表达式生成九九乘法表，每个元素都是一个计算式子。 使得输出的列表为： \n",
    "``` python\n",
    "L= ['1*1=1', '1*2=2', '1*3=3', '1*4=4', '1*5=5', '1*6=6', '1*7=7', '1*8=8', '1*9=9', '2*2=4', '2*3=6', '2*4=8', '2*5=10', '2*6=12', '2*7=14', '2*8=16', '2*9=18', '3*3=9', '3*4=12', '3*5=15', '3*6=18', '3*7=21', '3*8=24', '3*9=27', '4*4=16', '4*5=20', '4*6=24', '4*7=28', '4*8=32', '4*9=36', '5*5=25', '5*6=30', '5*7=35', '5*8=40', '5*9=45', '6*6=36', '6*7=42', '6*8=48', '6*9=54', '7*7=49', '7*8=56', '7*9=63', '8*8=64', '8*9=72', '9*9=81']\n",
    "```\n",
    "（10分）"
   ]
  },
  {
   "cell_type": "code",
   "execution_count": 7,
   "metadata": {},
   "outputs": [
    {
     "name": "stdout",
     "output_type": "stream",
     "text": [
      "['1*1=1', '1*2=2', '1*3=3', '1*4=4', '1*5=5', '1*6=6', '1*7=7', '1*8=8', '1*9=9', '2*2=4', '2*3=6', '2*4=8', '2*5=10', '2*6=12', '2*7=14', '2*8=16', '2*9=18', '3*3=9', '3*4=12', '3*5=15', '3*6=18', '3*7=21', '3*8=24', '3*9=27', '4*4=16', '4*5=20', '4*6=24', '4*7=28', '4*8=32', '4*9=36', '5*5=25', '5*6=30', '5*7=35', '5*8=40', '5*9=45', '6*6=36', '6*7=42', '6*8=48', '6*9=54', '7*7=49', '7*8=56', '7*9=63', '8*8=64', '8*9=72', '9*9=81']\n"
     ]
    }
   ],
   "source": [
    "L=[\"%d*%d=%d\"%(x,y,z) for x in range (1,10) for y in range (x,10) for z in range(x*y,x*y+1)]\n",
    "print(L)"
   ]
  },
  {
   "cell_type": "markdown",
   "metadata": {},
   "source": [
    "七、用列表推演表达式完成如下功能：给定一个字符串text，里面存放的是一小段文本。请利用列表推演表达式获取文本中所有单词的第1个字符。（10分）\n",
    "``` python\n",
    "text=\"My house is full of flowers\"\n",
    "```"
   ]
  },
  {
   "cell_type": "code",
   "execution_count": 9,
   "metadata": {},
   "outputs": [
    {
     "data": {
      "text/plain": [
       "['M', 'h', 'i', 'f', 'o', 'f']"
      ]
     },
     "execution_count": 9,
     "metadata": {},
     "output_type": "execute_result"
    }
   ],
   "source": [
    "text=\"My house is full of flowers\"\n",
    "L=[text[i] for i in range(0,len(text)) if i==0 or text[i-1]==\" \"]\n",
    "L"
   ]
  },
  {
   "cell_type": "markdown",
   "metadata": {},
   "source": [
    "八、文件操作练习。请生成九九乘法表，按照表的形式输出到文件中，格式如下：\n",
    "```python\n",
    "1*1=1\n",
    "1*2=2\t2*2=4\n",
    "1*3=3\t2*3=6\t3*3=9\n",
    "1*4=4\t2*4=8\t3*4=12\t4*4=16\n",
    "...\n",
    "\n",
    "（15分）"
   ]
  },
  {
   "cell_type": "code",
   "execution_count": 54,
   "metadata": {},
   "outputs": [
    {
     "name": "stdout",
     "output_type": "stream",
     "text": [
      "\u0000\u0000\u0000\u0000\u0000\u0000\u0000\u0000\u0000\u0000\u0000\u0000\u0000\u0000\u0000\u0000\u0000\u0000\u0000\u0000\u0000\u0000\u0000\u0000\u0000\u0000\u0000\u0000\u0000\u0000\u0000\u0000\u0000\u0000\u0000\u0000\u0000\u0000\u0000\u0000\u0000\u0000\u0000\u0000\u0000\u0000\u0000\u0000\u0000\u0000\u0000\u0000\u0000\u0000\u0000\u0000\u0000\u0000\u0000\u0000\u0000\u0000\u0000\u0000\u0000\u0000\u0000\u0000\u0000\u0000\u0000\u0000\u0000\u0000\u0000\u0000\u0000\u0000\u0000\u0000\u0000\u0000\u0000\u0000\u0000\u0000\u0000\u0000\u0000\u0000\u0000\u0000\u0000\u0000\u0000\u0000\u0000\u0000\u0000\u0000\u0000\u0000\u0000\u0000\u0000\u0000\u0000\u0000\u0000\u0000\u0000\u0000\u0000\u0000\u0000\u0000\u0000\u0000\u0000\u0000\u0000\u0000\u0000\u0000\u0000\u0000\u0000\u0000\u0000\u0000\u0000\u0000\u0000\u0000\u0000\u0000\u0000\u0000\u0000\u0000\u0000\u0000\u0000\u0000\u0000\u0000\u0000\u0000\u0000\u0000\u0000\u0000\u0000\u0000\u0000\u0000\u0000\u0000\u0000\u0000\u0000\u0000\u0000\u0000\u0000\u0000\u0000\u0000\u0000\u0000\u0000\u0000\u0000\u0000\u0000\u0000\u0000\u0000\u0000\u0000\u0000\u0000\u0000\u0000\u0000\u0000\u0000\u0000\u0000\u0000\u0000\u0000\u0000\u0000\u0000\u0000\u0000\u0000\u0000\u0000\u0000\u0000\u0000\u0000\u0000\u0000\u0000\u0000\u0000\u0000\u0000\u0000\u0000\u0000\u0000\u0000\u0000\u0000\u0000\u0000\u0000\u0000\u0000\u0000\u0000\u0000\u0000\u0000\u0000\u0000\u0000\u0000\u0000\u0000\u0000\u0000\u0000\u0000\u0000\u0000\u0000\u0000\u0000\u0000\u0000\u0000\u0000\u0000\u0000\u0000\u0000\u0000\u0000\u0000\u0000\u0000\u0000\u0000\u0000\u0000\u0000\u0000\u0000\u0000\u0000\u0000\u0000\u0000\u0000\u0000\u0000\u0000\u0000\u0000\u00001*1=1\n",
      "1*2=2  2*2=4\n",
      "1*3=3  2*3=6  3*3=9\n",
      "1*4=4  2*4=8  3*4=12  4*4=16\n",
      "1*5=5  2*5=10  3*5=15  4*5=20  5*5=25\n",
      "1*6=6  2*6=12  3*6=18  4*6=24  5*6=30  6*6=36\n",
      "1*7=7  2*7=14  3*7=21  4*7=28  5*7=35  6*7=42  7*7=49\n",
      "1*8=8  2*8=16  3*8=24  4*8=32  5*8=40  6*8=48  7*8=56  8*8=64\n",
      "1*9=9  2*9=18  3*9=27  4*9=36  5*9=45  6*9=54  7*9=63  8*9=72  9*9=81\n"
     ]
    }
   ],
   "source": [
    "L=[]\n",
    "for i in range(1,10):\n",
    "    for j in range(1,i+1):\n",
    "        a=\"{0}*{1}={2}\".format(j,i,i*j)\n",
    "        L.append(a)\n",
    "f=open(\"C:/file/file01.txt\",\"w+\")\n",
    "n=0\n",
    "for m in range(1,10):\n",
    "    while m>0:\n",
    "        f.write(L[n])\n",
    "        f.write(\"  \")\n",
    "        m=m-1\n",
    "        n=n+1\n",
    "    f.write(\"\\n\")\n",
    "l=f.readlines()\n",
    "for e in l:\n",
    "    e=e.strip()\n",
    "    print(e)"
   ]
  },
  {
   "cell_type": "markdown",
   "metadata": {},
   "source": [
    "九、从文件中以字典的形式读取数据，名字作为key，年龄作为value。文件中的内容如下，以制表符('\\t')分割数据。\n",
    "``` python\n",
    "name\tage\n",
    "Aaron\t34\n",
    "Abraham\t23\n",
    "Andy\t56\n",
    "Benson\t41\n",
    "\n",
    "```\n",
    "然后输出到另一个文件中，并添加行号。个数如下，依旧以制表符分割数据。\n",
    "``` python\n",
    "1\tAaron\t34\n",
    "2\tAbraham\t23\n",
    "3\tAndy\t56\n",
    "4\tBenson\t41\n",
    "\n",
    "```\n",
    "（10分）"
   ]
  },
  {
   "cell_type": "code",
   "execution_count": 34,
   "metadata": {
    "scrolled": true
   },
   "outputs": [
    {
     "name": "stdout",
     "output_type": "stream",
     "text": [
      "name\tage\n",
      "\n",
      "Aaron\t34\n",
      "\n",
      "Abraham\t23\n",
      "\n",
      "Andy\t56\n",
      "\n",
      "Benson\t41\n",
      "{'name': 'age', 'Aaron': '34', 'Abraham': '23', 'Andy': '56', 'Benson': '41'}\n",
      "['1\\tAaron\\t34\\n', '2\\tAbraham\\t23\\n', '3\\tAndy\\t56\\n', '4\\tBenson\\t41']\n"
     ]
    }
   ],
   "source": [
    "f=open(\"C:/file/file3.txt\",\"r\")#事先在file3中存好文本\n",
    "a=f.readlines()\n",
    "mdict={}\n",
    "i=0\n",
    "while i<len(a):\n",
    "    print(a[i])\n",
    "    a[i]=a[i].strip()\n",
    "    c=a[i].split(\"\\t\")[0]\n",
    "    b=a[i].split(\"\\t\")[1]\n",
    "    mdict[c]=b#存入字典\n",
    "    i=i+1\n",
    "print(mdict)#展示我的字典\n",
    "a=a[1:]\n",
    "j=1;s=\"\"\n",
    "for e in a:\n",
    "    e=str(j)+\"\\t\"+e+\"\\n\"\n",
    "    j=j+1\n",
    "    s+=e\n",
    "s=s[:len(s)-1]\n",
    "f1=open(\"C:/file/file4.txt\",\"w+\")\n",
    "f1.write(s)#存到flie4中\n",
    "k=f1.readlines()\n",
    "print(k)#展示file4的文本"
   ]
  }
 ],
 "metadata": {
  "kernelspec": {
   "display_name": "Python 3",
   "language": "python",
   "name": "python3"
  },
  "language_info": {
   "codemirror_mode": {
    "name": "ipython",
    "version": 3
   },
   "file_extension": ".py",
   "mimetype": "text/x-python",
   "name": "python",
   "nbconvert_exporter": "python",
   "pygments_lexer": "ipython3",
   "version": "3.6.5"
  }
 },
 "nbformat": 4,
 "nbformat_minor": 2
}
