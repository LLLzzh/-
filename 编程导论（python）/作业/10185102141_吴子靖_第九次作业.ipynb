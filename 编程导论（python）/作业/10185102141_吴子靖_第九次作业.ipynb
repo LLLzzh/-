{
 "cells": [
  {
   "cell_type": "markdown",
   "metadata": {},
   "source": [
    "# 华东师范大学计算机科学技术系作业\n",
    "\n",
    " | 华东师范大学计算机科学技术系作业 | |\n",
    ":- | :- | :- \n",
    " 课程名称：编程导论Python | 年级：2018级| 作业成绩：\n",
    " 指导教师：杨燕 | 姓名：吴子靖|  提交作业日期：2018年12月06日  \n",
    " 专业：计算机系 | 学号：10185102141  |  作业编号： 8\n",
    " -----------------------------"
   ]
  },
  {
   "cell_type": "markdown",
   "metadata": {},
   "source": [
    "一、用递归方式求 $(x+1)^n$展开式的系数列表，其中$n$为给定值，例如当$n=2$时，系数为$1, 2, 1$，输出系数组成的列表`[1, 2, 1]`\n",
    "<br/>\n",
    "（20分）"
   ]
  },
  {
   "cell_type": "code",
   "execution_count": 1,
   "metadata": {},
   "outputs": [
    {
     "name": "stdout",
     "output_type": "stream",
     "text": [
      "[1, 2, 1] [1, 3, 3, 1] [1, 4, 6, 4, 1]\n"
     ]
    }
   ],
   "source": [
    "def f(n,i=0):\n",
    "    if i==n:\n",
    "        return [1]\n",
    "    a=f(n,i+1)\n",
    "    return [int(a[0]*(i+1)/(n-i))]+a\n",
    "print(f(2),f(3),f(4))"
   ]
  },
  {
   "cell_type": "markdown",
   "metadata": {},
   "source": [
    "二、\t给定一个字符串，用递归方式判断字符串中`\"1\"`的个数的奇偶性。例如字符串为`\"112101\"`，那么`\"1\"`的个数为4，是偶数。（假设`\"1\"`出现的次数为正数）\n",
    "<br/>\n",
    "（20分）"
   ]
  },
  {
   "cell_type": "code",
   "execution_count": 2,
   "metadata": {},
   "outputs": [
    {
     "name": "stdout",
     "output_type": "stream",
     "text": [
      "含1的个数为:4,奇偶性为偶"
     ]
    }
   ],
   "source": [
    "def judge(s):\n",
    "    if s==\"\":\n",
    "        return 0\n",
    "    if s[0]==\"1\":\n",
    "        return 1+judge(s[1:])\n",
    "    return judge(s[1:])\n",
    "num=judge(\"112101\")\n",
    "if num%2==0:\n",
    "    print(\"含1的个数为:%d\"%num,end=\",奇偶性为偶\")\n",
    "else:\n",
    "    print(\"含1的个数为:%d\"%num,end=\",奇偶性为奇\")"
   ]
  },
  {
   "cell_type": "markdown",
   "metadata": {},
   "source": [
    "三、写一个递归函数`DigitSum(n)`，输入一个非负整数，返回组成它的数字之和。例如，调用`DigitSum(1729)`，则应该返回`1+7+2+9`的和，即返回`19`。\n",
    "<br/>\n",
    "（20分）"
   ]
  },
  {
   "cell_type": "code",
   "execution_count": 3,
   "metadata": {},
   "outputs": [
    {
     "data": {
      "text/plain": [
       "19"
      ]
     },
     "execution_count": 3,
     "metadata": {},
     "output_type": "execute_result"
    }
   ],
   "source": [
    "def DigitSum(n):\n",
    "    if len(str(n))==1:\n",
    "        return n\n",
    "    return (int(str(n)[0])+DigitSum(int(str(n)[1:])))\n",
    "DigitSum(1729)"
   ]
  },
  {
   "cell_type": "markdown",
   "metadata": {},
   "source": [
    "四、用递归方式求解如下数学问题；一个人赶着鸭子去每个村庄卖，每经过一个村子卖去所赶鸭子的一半又一只。这样，他经过七个村子之后还剩两只鸭子，问他出发的时候一共赶了多少只鸭子？在每个村子分别卖出多少只鸭子？\n",
    "<br/>\n",
    "（20分）"
   ]
  },
  {
   "cell_type": "code",
   "execution_count": 4,
   "metadata": {},
   "outputs": [
    {
     "name": "stdout",
     "output_type": "stream",
     "text": [
      "经过第7个村子的时候卖出了4只鸭子\n",
      "经过第6个村子的时候卖出了8只鸭子\n",
      "经过第5个村子的时候卖出了16只鸭子\n",
      "经过第4个村子的时候卖出了32只鸭子\n",
      "经过第3个村子的时候卖出了64只鸭子\n",
      "经过第2个村子的时候卖出了128只鸭子\n",
      "经过第1个村子的时候卖出了256只鸭子\n",
      "最初的鸭子总数为510只\n"
     ]
    }
   ],
   "source": [
    "def duckques(cou,duck):\n",
    "    if cou==1:\n",
    "        print(\"经过第%d个村子的时候卖出了%d只鸭子\"%(8-cou,duck+2))\n",
    "        return (duck+1)*2\n",
    "    a=duckques(cou-1,duck)\n",
    "    print(\"经过第%d个村子的时候卖出了%d只鸭子\"%(8-cou,a+2))\n",
    "    return (a+1)*2\n",
    "ducksum=duckques(7,2)\n",
    "print(\"最初的鸭子总数为%d只\"%(ducksum))"
   ]
  },
  {
   "cell_type": "markdown",
   "metadata": {},
   "source": [
    "五、用递归方式求从$m$个数里取$n$个数的组合个数。已知组合递推公式为：\n",
    "\n",
    "`comn(m, n) = comn(m-1, n-1) + comn(m-1, n)`\n",
    "\n",
    "例如$m=5, n=3$，则组合数为$10$。\n",
    "<br/>\n",
    "（20分）"
   ]
  },
  {
   "cell_type": "code",
   "execution_count": 5,
   "metadata": {},
   "outputs": [
    {
     "data": {
      "text/plain": [
       "10"
      ]
     },
     "execution_count": 5,
     "metadata": {},
     "output_type": "execute_result"
    }
   ],
   "source": [
    "def comn(m,n):\n",
    "    if m<n or m<0 or n<0:\n",
    "        return(\"Error\")\n",
    "    if m==n or n==0:\n",
    "        return 1\n",
    "    return comn(m-1,n-1)+comn(m-1,n)\n",
    "comn(5,3)"
   ]
  }
 ],
 "metadata": {
  "kernelspec": {
   "display_name": "Python 3",
   "language": "python",
   "name": "python3"
  },
  "language_info": {
   "codemirror_mode": {
    "name": "ipython",
    "version": 3
   },
   "file_extension": ".py",
   "mimetype": "text/x-python",
   "name": "python",
   "nbconvert_exporter": "python",
   "pygments_lexer": "ipython3",
   "version": "3.6.5"
  }
 },
 "nbformat": 4,
 "nbformat_minor": 2
}
