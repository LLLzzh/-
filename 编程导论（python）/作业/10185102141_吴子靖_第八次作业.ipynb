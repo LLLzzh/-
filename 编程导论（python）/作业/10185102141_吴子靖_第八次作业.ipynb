{
 "cells": [
  {
   "cell_type": "markdown",
   "metadata": {},
   "source": [
    "# 华东师范大学计算机科学技术系作业\n",
    "\n",
    " | 华东师范大学计算机科学技术系作业 | |\n",
    ":- | :- | :- \n",
    " 课程名称：编程导论Python | 年级：2018级| 作业成绩：\n",
    " 指导教师：杨燕 | 姓名：吴子靖  |  提交作业日期：2018年11月29日  \n",
    " 专业：计算机系 | 学号：10185102141  |  作业编号： 7\n",
    " -----------------------------"
   ]
  },
  {
   "cell_type": "markdown",
   "metadata": {},
   "source": [
    "一、异常处理练习。假设输入一组任意长度列表，我们要对该列表中第10个元素进行加1操作，请利用try-except模型自己实现一个异常处理，可以捕获IndexError异常。\n",
    "<br/>\n",
    "（15分）"
   ]
  },
  {
   "cell_type": "code",
   "execution_count": 1,
   "metadata": {},
   "outputs": [
    {
     "name": "stdout",
     "output_type": "stream",
     "text": [
      "1 2 3 4 5 6 7 8 9 10\n",
      "[1, 2, 3, 4, 5, 6, 7, 8, 9, 11]\n"
     ]
    }
   ],
   "source": [
    "L=list(map(int,input().split()))\n",
    "try:\n",
    "    L[9]+=1\n",
    "    print(L)\n",
    "except IndexError:\n",
    "    print(\"列表中元素不足十个\")"
   ]
  },
  {
   "cell_type": "code",
   "execution_count": 2,
   "metadata": {},
   "outputs": [
    {
     "name": "stdout",
     "output_type": "stream",
     "text": [
      "1 2 3 4 5\n",
      "列表中元素不足十个\n"
     ]
    }
   ],
   "source": [
    "L=list(map(int,input().split()))\n",
    "try:\n",
    "    L[9]+=1\n",
    "    print(L)\n",
    "except IndexError:\n",
    "    print(\"列表中元素不足十个\")"
   ]
  },
  {
   "cell_type": "markdown",
   "metadata": {},
   "source": [
    "二、\t用二分法的递归方式求n个元素列表的最大值和最小值，改写本章的<程序：求数列最大最小值——二分法>，传递参数时不用分片，而是用它在原来列表的索引及长度。然后分析程序的开销，开销的增长趋势是什么？\n",
    "<br/>\n",
    "（15分）"
   ]
  },
  {
   "cell_type": "code",
   "execution_count": 17,
   "metadata": {},
   "outputs": [
    {
     "name": "stdout",
     "output_type": "stream",
     "text": [
      "最小值为: 12\n",
      "最小值为: 98\n"
     ]
    }
   ],
   "source": [
    "def find_min_max(L,n):\n",
    "    if n==2:\n",
    "        if L[0]<L[1]:\n",
    "            return L[0],L[1]\n",
    "        else:\n",
    "            return L[1],L[0]\n",
    "    if n==1:\n",
    "        return L[0],L[0]\n",
    "    if n==0:\n",
    "        return [],[]\n",
    "    else:\n",
    "        m,p=find_min_max(L,n-1)\n",
    "        if m>L[n-1]:\n",
    "            m=L[n-1]\n",
    "        if p<L[n-1]:\n",
    "            p=L[n-1]\n",
    "        return m,p\n",
    "L=[12,56,24,98,56]\n",
    "a,b=find_min_max(L,len(L))\n",
    "print(\"最小值为:\",a)\n",
    "print(\"最小值为:\",b)"
   ]
  },
  {
   "cell_type": "markdown",
   "metadata": {},
   "source": [
    "分析：二分法通过不断分片，最终得到若干个长度为1或2的列表，再通过逐一比较，再得到若干个长度为2或1的新列表，直到最后只剩两个元素，所用的时间会随着n的增长而增长，且n加1，比较次数就加若干，是非线性函数，而我所用的方法是将n个元素的范围缩短到n-1,n-2,n-3……直到2个元素，然后逐个进行大小比较，n每加1，就要多比较两次，是一个斜率为2的一次函数，随着n不断增大，由于基数的增加，二分法的增幅会不断增大，导致所用的时间开销会逐渐大于后者，直到最后会有极大差距，远慢于我所用的办法"
   ]
  },
  {
   "cell_type": "markdown",
   "metadata": {},
   "source": [
    "三、用二分法的递归方式实现求给定数列L中所有元素的平均数。例如给定数列L=[12,32,45,78,22]，则该数列平均数为(12+32+45+78+22)/5=37.8。\n",
    "<br/>\n",
    "（15分）"
   ]
  },
  {
   "cell_type": "code",
   "execution_count": 13,
   "metadata": {},
   "outputs": [
    {
     "data": {
      "text/plain": [
       "37.8"
      ]
     },
     "execution_count": 13,
     "metadata": {},
     "output_type": "execute_result"
    }
   ],
   "source": [
    "def average(L,m=len(L)):\n",
    "    if len(L)==1:\n",
    "        return (L[0]/m)\n",
    "    else:\n",
    "        return (average(L[:len(L)//2])+average(L[len(L)//2:]))\n",
    "average([12,32,45,78,22])"
   ]
  },
  {
   "cell_type": "markdown",
   "metadata": {},
   "source": [
    "四、用递归方法实现求给定正整数n的阶乘n!。例如n=3，则n的阶乘为$1*2*3=6$。\n",
    "<br/>\n",
    "（15分）"
   ]
  },
  {
   "cell_type": "code",
   "execution_count": 6,
   "metadata": {},
   "outputs": [
    {
     "name": "stdout",
     "output_type": "stream",
     "text": [
      "3\n"
     ]
    },
    {
     "data": {
      "text/plain": [
       "6"
      ]
     },
     "execution_count": 6,
     "metadata": {},
     "output_type": "execute_result"
    }
   ],
   "source": [
    "def jiecheng(x):\n",
    "    if x==1:\n",
    "        return 1\n",
    "    else:\n",
    "        return (x*jiecheng(x-1))\n",
    "jiecheng(int(input()))"
   ]
  },
  {
   "cell_type": "markdown",
   "metadata": {},
   "source": [
    "五、用递归方法实现求给定列表L中所有元素的最小值。如L=[11,15,9,14,8,5]，则最小数为5。\n",
    "<br/>\n",
    "（15分）"
   ]
  },
  {
   "cell_type": "code",
   "execution_count": 8,
   "metadata": {},
   "outputs": [
    {
     "data": {
      "text/plain": [
       "5"
      ]
     },
     "execution_count": 8,
     "metadata": {},
     "output_type": "execute_result"
    }
   ],
   "source": [
    "def min_L(L):\n",
    "    if len(L)==1:\n",
    "        return L[0]\n",
    "    if len(L)==0:\n",
    "        return []\n",
    "    min1=min_L(L[0:len(L)//2])\n",
    "    min2=min_L(L[len(L)//2:])\n",
    "    if min1>min2:\n",
    "        min1=min2\n",
    "    return min1\n",
    "min_L([11,15,9,14,8,5])"
   ]
  },
  {
   "cell_type": "markdown",
   "metadata": {},
   "source": [
    "六、调用import time库，编写一个程序能测试<程序：非递归实现my_remove>和它的较好程序的时间差异。建议所要删除的元素是一个长列表的最后一个。\n",
    "<br/>\n",
    "（15分）"
   ]
  },
  {
   "cell_type": "code",
   "execution_count": 27,
   "metadata": {},
   "outputs": [
    {
     "name": "stdout",
     "output_type": "stream",
     "text": [
      "原始程序所用时间为: 9.930385351708537e-05\n",
      "改进程序所用时间为: 7.664898203074699e-05,比原始程序快了: 2.265487148633838e-05\n"
     ]
    }
   ],
   "source": [
    "import time\n",
    "def my_remove(L,x):\n",
    "    if not x in L:\n",
    "        return L\n",
    "    A=[]\n",
    "    for i in range (len(L)):\n",
    "        if L[i]==x:\n",
    "            A=A+L[i+1:]\n",
    "            break\n",
    "        A=A+[L[i]]\n",
    "    return A\n",
    "def my_remove_better(L,x):\n",
    "    A=L[:]\n",
    "    for i in range (len(L)):\n",
    "        if L[i]==x:\n",
    "            A=A[:i]+A[i+1:]\n",
    "            break\n",
    "        return A\n",
    "L=[1,2,3,4,5,6,7,8,9,10,11,12,13,14,15,16,17,18,19,20]\n",
    "time1=time.clock()\n",
    "my_remove(L,20)\n",
    "time2=time.clock()-time1\n",
    "time3=time.clock()\n",
    "my_remove_better(L,20)\n",
    "time4=time.clock()-time3\n",
    "time5=time2-time4\n",
    "print(\"原始程序所用时间为:\",time2)\n",
    "print(\"改进程序所用时间为:\",time4,end=\",\")\n",
    "print(\"比原始程序快了:\",time5)"
   ]
  },
  {
   "cell_type": "markdown",
   "metadata": {},
   "source": [
    "七、解释<程序：递归实现my_remove2使用二分法>的终止条件，为何要考虑长度为1的情形？\n",
    "<br/>\n",
    "（10分）"
   ]
  },
  {
   "cell_type": "markdown",
   "metadata": {},
   "source": [
    "当列表的长度为1时，如果x在L内，那么返回L[1:]得到空列表，没有问题。但是如果x不在L之内，A1=L[0:(1//2)]=L[0:0],即A1=L，相当于再进行一次my_remove2(L,x),而同样的又一次运算A1=L[0:0]，反反复复没有止境的算下去，造成了死循环。所以为了防止列表长度为1，而x又不在L内的情形，需要在终止条件额外编写 return L;防止死循环的产生。\n"
   ]
  }
 ],
 "metadata": {
  "kernelspec": {
   "display_name": "Python 3",
   "language": "python",
   "name": "python3"
  },
  "language_info": {
   "codemirror_mode": {
    "name": "ipython",
    "version": 3
   },
   "file_extension": ".py",
   "mimetype": "text/x-python",
   "name": "python",
   "nbconvert_exporter": "python",
   "pygments_lexer": "ipython3",
   "version": "3.6.5"
  }
 },
 "nbformat": 4,
 "nbformat_minor": 2
}
