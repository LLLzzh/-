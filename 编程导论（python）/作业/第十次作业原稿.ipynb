{
 "cells": [
  {
   "cell_type": "markdown",
   "metadata": {},
   "source": [
    "# 华东师范大学计算机科学技术系作业\n",
    "\n",
    " | 华东师范大学计算机科学技术系作业 | |\n",
    ":- | :- | :- \n",
    " 课程名称：编程导论Python | 年级：2018级| 作业成绩：\n",
    " 指导教师：杨燕 | 姓名：黎明  |  提交作业日期：2018年12月13日  \n",
    " 专业：计算机系 | 学号：***********  |  作业编号： 9\n",
    " -----------------------------"
   ]
  },
  {
   "cell_type": "markdown",
   "metadata": {},
   "source": [
    "一、用递归和非递归两种方式实现list的内置函数 pop ，函数格式为 my_pop(L,i)。pop 函数将列表 L 中索引为 i 的元素弹出并返回其值。假设L=`[1, 2, 3]`，执行完 my_pop(1,2)后返回3以及新列表值`[1, 2]`。\n",
    "<br/>\n",
    "（20分）"
   ]
  },
  {
   "cell_type": "code",
   "execution_count": null,
   "metadata": {
    "collapsed": true
   },
   "outputs": [],
   "source": []
  },
  {
   "cell_type": "markdown",
   "metadata": {},
   "source": [
    "二、\t用递归和非递归两种方式实现 String 的 isalpha 函数。实现的函数格式为 my_isalpha(S)，my_isalpha 函数会判断字符串是否全部由字母组成，例如S=`\"asd123\"`，在执行语句 my_isalpha(S) 后会返回False。\n",
    "<br/>\n",
    "（20分）"
   ]
  },
  {
   "cell_type": "code",
   "execution_count": null,
   "metadata": {
    "collapsed": true
   },
   "outputs": [],
   "source": []
  },
  {
   "cell_type": "markdown",
   "metadata": {},
   "source": [
    "三、给定一个整数列表 L，输出一个列表 S，其中 S[i]=L[0] 到 L[i] 的和。例如 L=`[1,2,4,2]` ，则输出 S=`[1,3,7,9]`。用简单递归方法实现此程序，再用二分递归方式来实现此程序。\n",
    "<br/>\n",
    "（20分）"
   ]
  },
  {
   "cell_type": "code",
   "execution_count": null,
   "metadata": {
    "collapsed": true
   },
   "outputs": [],
   "source": []
  },
  {
   "cell_type": "code",
   "execution_count": null,
   "metadata": {
    "collapsed": true
   },
   "outputs": [],
   "source": []
  },
  {
   "cell_type": "markdown",
   "metadata": {},
   "source": [
    "四、假设有4种钱币：1分钱、5分钱、10分钱和25分钱。请问100分钱有多少种不同钱币的组合方式？例如：5分钱有两种组合方式：5个1分钱和1个5分钱；10分钱有4种组合方式：10个1分钱，2个5分钱，5个1分钱加上1个5分钱，1个10分钱。请先写出递归关系式。\n",
    "<br/>\n",
    "（20分）"
   ]
  },
  {
   "cell_type": "code",
   "execution_count": null,
   "metadata": {
    "collapsed": true
   },
   "outputs": [],
   "source": []
  },
  {
   "cell_type": "markdown",
   "metadata": {},
   "source": [
    "五、用递归方式将一个多层嵌套 list 展开成一层，以 list=`['and','B',['not','A'],[1,2,1,[2,1],[1,1,[2,2,1]]],['not','A','A'],['or','A','B','A'],'B']`为例，则 list 展开结果为`['and','B','not','A',1,2,1,2,1,1,1,2,2,1,'not','A','A','or','A','B','A','B']`。\n",
    "<br/>\n",
    "（20分）"
   ]
  },
  {
   "cell_type": "code",
   "execution_count": null,
   "metadata": {
    "collapsed": true
   },
   "outputs": [],
   "source": []
  }
 ],
 "metadata": {
  "kernelspec": {
   "display_name": "Python 3",
   "language": "python",
   "name": "python3"
  },
  "language_info": {
   "codemirror_mode": {
    "name": "ipython",
    "version": 3
   },
   "file_extension": ".py",
   "mimetype": "text/x-python",
   "name": "python",
   "nbconvert_exporter": "python",
   "pygments_lexer": "ipython3",
   "version": "3.6.3"
  }
 },
 "nbformat": 4,
 "nbformat_minor": 2
}
