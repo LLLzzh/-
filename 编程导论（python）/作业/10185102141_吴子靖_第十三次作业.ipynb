{
 "cells": [
  {
   "cell_type": "markdown",
   "metadata": {},
   "source": [
    "# 华东师范大学计算机科学技术系作业\n",
    "\n",
    " | 华东师范大学计算机科学技术系作业 | |\n",
    ":- | :- | :- \n",
    " 课程名称：编程导论Python | 年级：2018级| 作业成绩：\n",
    " 指导教师：杨燕 | 姓名：吴子靖  |  提交作业日期：2019年1月2日  \n",
    " 专业：计算机系 | 学号：10185102141 |  作业编号： 12\n",
    " -----------------------------"
   ]
  },
  {
   "cell_type": "markdown",
   "metadata": {},
   "source": [
    "一、编程实现随机产生1个20位的数，使得该数与111这个数互质。（20分）"
   ]
  },
  {
   "cell_type": "code",
   "execution_count": 1,
   "metadata": {},
   "outputs": [
    {
     "name": "stdout",
     "output_type": "stream",
     "text": [
      "True\n"
     ]
    }
   ],
   "source": [
    "f = True\n",
    "a = int(111**(1/2))+1  #判断111是否是质数\n",
    "for i in range(2,a):\n",
    "    if 111%a == 0:\n",
    "        f = False\n",
    "        break\n",
    "print(f)"
   ]
  },
  {
   "cell_type": "code",
   "execution_count": 1,
   "metadata": {},
   "outputs": [
    {
     "name": "stdout",
     "output_type": "stream",
     "text": [
      "随机产生的数字是: 99743458894260620963\n",
      "99743458894260620963  的长度是: 20\n",
      "99743458894260620963  对111取余的结果是: 41\n"
     ]
    }
   ],
   "source": [
    "#通过上述的判断，知道111是一个质数，因此只要这个20位的数对111取余不为零，这个数就和111互质\n",
    "x1 = pow(10,19)//111\n",
    "x2 = pow(10,20)//111\n",
    "import random\n",
    "m = random.randint(x1+1,x2)\n",
    "n = random.randint(1,110)\n",
    "result = m*111 + n\n",
    "print(\"随机产生的数字是: %d\"%result)\n",
    "print(\"%d  的长度是: %d\"%(result,len(str(result))))\n",
    "print(\"%d  对111取余的结果是: %d\"%(result,result%111))"
   ]
  },
  {
   "cell_type": "markdown",
   "metadata": {},
   "source": [
    "二、写Python程序算出$a^xmod b$的值。函数`mod(a, x, b)`返回$a^xmod b$的值。假设$a$和$b$都是最多为10位的整数，而$x$可以是最多为200位的整数。请用递归编写此程序。（20分）"
   ]
  },
  {
   "cell_type": "code",
   "execution_count": 1,
   "metadata": {},
   "outputs": [
    {
     "name": "stdout",
     "output_type": "stream",
     "text": [
      "mod(3,32,7) = 2\n",
      "mod(4,32,7) = 2\n"
     ]
    }
   ],
   "source": [
    "def mod(a,x,b):\n",
    "    if x == 1:\n",
    "        return a % b\n",
    "    if x == 0:\n",
    "        return 1 % b\n",
    "    return (mod(a,x//2,b)*mod(a,x-x//2,b))%b\n",
    "print(\"mod(3,32,7) = %d\"%mod(3,32,7))\n",
    "print(\"mod(4,32,7) = %d\"%mod(4,32,7)) #对书上例题的验证"
   ]
  },
  {
   "cell_type": "markdown",
   "metadata": {},
   "source": [
    "三、世界上常用的一种安全编码方式为RSA，其中产生公钥和私钥的过程中会用到本章介绍的倒数的概念。其实现方式为：给定两个质数$p$，$q$，随机产生一个奇数$e$，满足$e < (p-1)(q-1)$，而且$e$与$(p-1)(q-1)$互质，即$gcd(e, (p-1)(q-1)) = 1$。在$e$的基础上产生$e$的倒数$d$，即$e·d = 1(mod(p-1)(q-1))$。以上过程中产生的$e$即为公钥，$d$即为私钥。\n",
    "<br/>\n",
    "请编程实现求解私钥：对于给定的两个质数$p = 128543041447753$和$q = 1062573853363145487845851$，先随机产生$e < (p-1)(q-1$并且满足$gcd(e, (p-1)(q-1)) = 1$，然后求$d$并打印出来。（20分）"
   ]
  },
  {
   "cell_type": "code",
   "execution_count": 6,
   "metadata": {},
   "outputs": [
    {
     "name": "stdout",
     "output_type": "stream",
     "text": [
      "产生的随机数是: 56091011490602066992263710267524459379\n",
      "56091011490602066992263710267524459379与(p-1)(q-1)的最大公因数是1\n",
      "私匙d = 14218423029863833937515488643435453019\n"
     ]
    }
   ],
   "source": [
    "def gcd(x,n): #最大公因数\n",
    "    if x < n:\n",
    "        x,n = n,x\n",
    "    while x % n != 0:\n",
    "        t = n\n",
    "        n = x % n\n",
    "        x = t\n",
    "    return n\n",
    "def ex(x,y,vx,vy): #求解逆元\n",
    "    r = x % y;z = x//y\n",
    "    if r == 0:\n",
    "        return(y,vy)\n",
    "    vx[0] = vx[0] - z*vy[0]\n",
    "    vx[1] = vx[1] - z*vy[1]\n",
    "    return ex(y,r,vy,vx)\n",
    "def mod(e,n):\n",
    "    vx = [1,0];vy = [0,1]\n",
    "    if e > n:\n",
    "        G,X = ex(e,n,vx,vy)\n",
    "        d = X[0] % n\n",
    "    else:\n",
    "        G,X = ex(n,e,vx,vy)\n",
    "        d = X[1] % n\n",
    "    return d\n",
    "\n",
    "\n",
    "p=128543041447753;q=1062573853363145487845851\n",
    "res = (p-1)*(q-1)\n",
    "import random\n",
    "e = random.randint(1,res-1)\n",
    "while gcd(e,res) != 1:  #随机产生一个与(p-1)(q-1)互质的数\n",
    "    e = random.randint(1,res-1)\n",
    "print(\"产生的随机数是: %d\"%e)\n",
    "print(\"%d与(p-1)(q-1)的最大公因数是%d\"%(e,gcd(e,res)))\n",
    "d = mod(e,res)\n",
    "print(\"私匙d = %d\"%d)"
   ]
  },
  {
   "cell_type": "markdown",
   "metadata": {},
   "source": [
    "四、请将<程序：combination_3>的代码改成可以处理L有重复元素的情况。（20分）"
   ]
  },
  {
   "cell_type": "code",
   "execution_count": 9,
   "metadata": {},
   "outputs": [
    {
     "name": "stdout",
     "output_type": "stream",
     "text": [
      "[[2 3 5]\n",
      " [2 3 3]\n",
      " [3 3 5]\n",
      " [1 2 3]\n",
      " [1 3 5]\n",
      " [1 2 5]\n",
      " [1 3 3]]\n"
     ]
    }
   ],
   "source": [
    "import numpy as np\n",
    "def main():\n",
    "    def combination_3(L,k):\n",
    "        if len(L) <= k:\n",
    "            return [L]\n",
    "        if k == 0:\n",
    "            return [[]]\n",
    "        T1 = combination_3(L[0:len(L)-1],k-1)\n",
    "        T2 = combination_3(L[0:len(L)-1],k)\n",
    "        T  = []\n",
    "        for e in T1:\n",
    "            e.append(L[len(L)-1])\n",
    "            T.append(e)\n",
    "        return (T2+T)\n",
    "    result = combination_3(L,k)\n",
    "    arr = np.array(result)\n",
    "    print(np.array(list(set([tuple(t) for t in arr]))))\n",
    "L = [1,2,3,3,5]\n",
    "k = 3\n",
    "main()"
   ]
  },
  {
   "cell_type": "markdown",
   "metadata": {},
   "source": [
    "五、改写<程序：combination_4>。使得从`L`的第一个元素开始考虑，而不是从最后一个开始考虑。也就是说首先考虑一定选择第一个数`L[0]`，然后从剩下的$n-1$个数中选$k-1$个数的组合了然后，一定不选`L[0]`，一定选第二个数`L[1]`，再从剩下的$n-2$个数中选取$k-1$个数的组合；以此类推。（20分）"
   ]
  },
  {
   "cell_type": "code",
   "execution_count": 97,
   "metadata": {},
   "outputs": [
    {
     "name": "stdout",
     "output_type": "stream",
     "text": [
      "[[2, 2, 2], [1, 2, 2], [1, 2, 3], [1, 2, 4], [1, 3, 3], [1, 2, 5], [1, 4, 4], [1, 3, 4], [1, 3, 5], [1, 4, 5]]\n"
     ]
    }
   ],
   "source": [
    "def combination_4(L,k):\n",
    "    if k == 0 or len(L) < k:\n",
    "        return [[]]\n",
    "    if len(L) == k:\n",
    "        return [L]\n",
    "    n = len(L);T = [L[1]];R = []\n",
    "    for i in range(k+1):\n",
    "        A = combination_4(L[i:],k-1)\n",
    "        for e in A:\n",
    "            e_new = e + T\n",
    "            e_new.sort()\n",
    "            if not e_new in R:\n",
    "                R.append(e_new)\n",
    "        T = [L[0]]\n",
    "    return R\n",
    "L = [1,2,3,4,5]\n",
    "k = 3\n",
    "print(combination_4(L,k))"
   ]
  }
 ],
 "metadata": {
  "kernelspec": {
   "display_name": "Python 3",
   "language": "python",
   "name": "python3"
  }
 },
 "nbformat": 4,
 "nbformat_minor": 2
}
