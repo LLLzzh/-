{
 "cells": [
  {
   "cell_type": "markdown",
   "metadata": {},
   "source": [
    "一、 请利用所学知识，将下面的“不完美函数”改写成完美函数。\n",
    "~~~\n",
    "#<程序：“不完美函数”> \n",
    "res \n",
    "def add(a,b): \n",
    "    a = a*b; res = a+b\n",
    "add(2,3) \n",
    "print(\"最终结果为：\",res)\n",
    "~~~\n",
    "（10分）"
   ]
  },
  {
   "cell_type": "code",
   "execution_count": 4,
   "metadata": {},
   "outputs": [
    {
     "name": "stdout",
     "output_type": "stream",
     "text": [
      "最终结果为： 9\n"
     ]
    }
   ],
   "source": [
    "def add(a,b):\n",
    "    a=a*b\n",
    "    res=a+b\n",
    "    return res\n",
    "res=add(2,3)\n",
    "print(\"最终结果为：\",res)"
   ]
  },
  {
   "cell_type": "markdown",
   "metadata": {},
   "source": [
    "二、\t改写本章 3.1.2 部分<程序：参数与返回值举例>中的 find 函数，使其可以实现新的功能：查找序列中是否有字符‘f’，若有，则返回 True 与一个 列表，列表中记录所有字符 f 所在的索引；若无，则返回 False 与空列表。<br/>\n",
    "    例如，对于'abeffestffe'；返回 True, [3,4,8,9]。 <br/>\n",
    "    例如，对于[23,4,6,'e']；返回 False, []。<br/>\n",
    "（10分）"
   ]
  },
  {
   "cell_type": "code",
   "execution_count": 6,
   "metadata": {},
   "outputs": [
    {
     "name": "stdout",
     "output_type": "stream",
     "text": [
      "True [3, 4, 8, 9]\n"
     ]
    }
   ],
   "source": [
    "def find(l,key):\n",
    "    L=[]\n",
    "    for index in range(0,len(l)):\n",
    "        if l[index]==key:\n",
    "            L.append(index)\n",
    "    if L==[]:\n",
    "        return False,[]\n",
    "    else :\n",
    "        return True,L\n",
    "mystr='abeffestffe'\n",
    "key='f'\n",
    "correct,L=find(mystr,key)\n",
    "print(correct,L)"
   ]
  },
  {
   "cell_type": "markdown",
   "metadata": {},
   "source": [
    "三、这个程序，将会输出什么？在 g-func()中哪些是局部变量？\n",
    "~~~\n",
    "#<程序：局部变量与全局变量举例> \n",
    "b, c=2, 4 \n",
    "def g_func(d): \n",
    "    global a ; a=d*c\n",
    "g_func(b) ; print(a)\n",
    "~~~\n",
    "（10分）"
   ]
  },
  {
   "cell_type": "code",
   "execution_count": 11,
   "metadata": {},
   "outputs": [
    {
     "name": "stdout",
     "output_type": "stream",
     "text": [
      "8\n"
     ]
    }
   ],
   "source": [
    "#将会输出一个数字8 ，d是局部变量\n",
    "b, c=2, 4 \n",
    "def g_func(d): \n",
    "    global a \n",
    "    a=d*c\n",
    "g_func(b) \n",
    "print(a)"
   ]
  },
  {
   "cell_type": "markdown",
   "metadata": {},
   "source": [
    "四、局部与全局变量练习。请分析<程序：四则运算例子>的执行过程，并说明输出结果。\n",
    "~~~\n",
    "#<程序：四则运算例子> \n",
    "def do_div(a, b): \n",
    "    c=a/b                #a, b, c 都是 do_div()中的局部变量 \n",
    "    print (c); return c \n",
    "def do_mul(a, b):      \n",
    "    global c ; c=a*b     #a, b 是 do_mul()的局部变量，c 是全局变量 \n",
    "    print (c) ; return c \n",
    "def do_sub(a, b):        \n",
    "    c=a-b                 #a, b, c 都是 do_sub()中的局部变量 \n",
    "    c=do_mul(c, c)      \n",
    "    c=do_div(c, 2)      \n",
    "    print (c); return c           \n",
    "def do_add(a, b):        #参数 a 和 b 是 do_add()中的局部变量 \n",
    "    global c            \n",
    "    c=a + b              #全局变量 c，修改了 c 的值 \n",
    "    c=do_sub(c, 1)       #再次修改了全局变量 c 的值 \n",
    "    print (c)          \n",
    "#所有函数外先执行: \n",
    "a=3                      #全局变量 a \n",
    "b=2                      #全局变量 b \n",
    "c=1                      #全局变量 c \n",
    "do_add(a, b)             #全局变量 a 和 b 作为参数传递给 do_add() \n",
    "print (c)                #全局变量 c \n",
    "~~~\n",
    "（10分）"
   ]
  },
  {
   "cell_type": "markdown",
   "metadata": {
    "collapsed": true
   },
   "source": [
    "1.a,b作为参数传入函数do_add中<br/>\n",
    "2.在函数do_add中，c是全局变量，a,b是局部变量，因此语句c=a+b改变了函数外的c值为5<br/>\n",
    "3.c,1作为参数传入函数do_sub中，c赋值给局部变量a，1赋值给局部变量b<br/>\n",
    "4.在函数do_sub中，c为局部变量，因此c=a-b没有改变函数外c的值，函数外c的值为5，函数内c的值为4<br/>\n",
    "5.do_sub函数内的c,c作为参数传入函数do_mul中，c赋值给局部变量a,b<br/>\n",
    "6.在函数do_mul中，c是全局变量，因此c=a*b 改变了函数外的c值为16，打印c值为16<br/>\n",
    "7.do_mul函数返回c=16至do_sub，do_sub函数内的c,2作为参数传入do_div中，c赋值给a，2赋值给b<br/>\n",
    "8.do_div中a,b,c均为局部变量，c=a/b使局部变量c为8.0，全局变量c仍为16，打印c值为8.0<br/>\n",
    "9.do_div函数返回c=8.0至do_sub中，do_sub打印局部变量c值为8.0<br/>\n",
    "10.do_sub返回值c=8.0给函数do_add，改变全局变量c的值为8.0，打印c值为8.0<br/>\n",
    "11.主函数中的do_add(a,b)调用结束后，打印c值为8.0"
   ]
  },
  {
   "cell_type": "code",
   "execution_count": 12,
   "metadata": {},
   "outputs": [
    {
     "name": "stdout",
     "output_type": "stream",
     "text": [
      "16\n",
      "8.0\n",
      "8.0\n",
      "8.0\n",
      "8.0\n"
     ]
    }
   ],
   "source": [
    "#<程序：四则运算例子> \n",
    "def do_div(a, b): \n",
    "    c=a/b                #a, b, c 都是 do_div()中的局部变量 \n",
    "    print (c); return c \n",
    "def do_mul(a, b):      \n",
    "    global c ; c=a*b     #a, b 是 do_mul()的局部变量，c 是全局变量 \n",
    "    print (c) ; return c \n",
    "def do_sub(a, b):        \n",
    "    c=a-b                 #a, b, c 都是 do_sub()中的局部变量 \n",
    "    c=do_mul(c, c)      \n",
    "    c=do_div(c, 2)      \n",
    "    print (c); return c           \n",
    "def do_add(a, b):        #参数 a 和 b 是 do_add()中的局部变量 \n",
    "    global c            \n",
    "    c=a + b              #全局变量 c，修改了 c 的值 \n",
    "    c=do_sub(c, 1)       #再次修改了全局变量 c 的值 \n",
    "    print (c)          \n",
    "#所有函数外先执行: \n",
    "a=3                      #全局变量 a \n",
    "b=2                      #全局变量 b \n",
    "c=1                      #全局变量 c \n",
    "do_add(a, b)             #全局变量 a 和 b 作为参数传递给 do_add() \n",
    "print (c)                #全局变量 c "
   ]
  },
  {
   "cell_type": "markdown",
   "metadata": {},
   "source": [
    "五、修改习题 3.4 中的<程序：四则运算例子>，去掉 do_add()中的 global c 语句，分析程序将会输出什么？\n",
    "\n",
    "（10分）"
   ]
  },
  {
   "cell_type": "markdown",
   "metadata": {
    "collapsed": true
   },
   "source": [
    "1.a,b作为参数传入函数do_add中<br/>\n",
    "2.在函数do_add中，a,b,c都是局部变量，因此语句c=a+b未改变函数外的c值，函数内c值为5<br/>\n",
    "3.c,1作为参数传入函数do_sub中，c赋值给局部变量a，1赋值给局部变量b<br/>\n",
    "4.在函数do_sub中，c为局部变量，因此c=a-b没有改变函数外c的值，函数内c的值为4<br/>\n",
    "5.do_sub函数内的c,c作为参数传入函数do_mul中，c赋值给局部变量a,b<br/>\n",
    "6.在函数do_mul中，c是全局变量，因此c=a*b 改变了函数外的c值为16，打印c值为16<br/>\n",
    "7.do_mul函数返回c=16至do_sub，do_sub函数内的c,2作为参数传入do_div中，c赋值给a，2赋值给b<br/>\n",
    "8.do_div中a,b,c均为局部变量，c=a/b使局部变量c为8.0，全局变量c仍为16，打印c值为8.0<br/>\n",
    "9.do_div函数返回c=8.0至do_sub中，do_sub打印局部变量c值为8.0<br/>\n",
    "10.do_sub返回值c=8.0给函数do_add，改变局部变量c的值为8.0，打印c值为8.0<br/>\n",
    "11.主函数中的do_add(a,b)调用结束后，全局变量c值仍为16，打印c值为16"
   ]
  },
  {
   "cell_type": "code",
   "execution_count": 13,
   "metadata": {},
   "outputs": [
    {
     "name": "stdout",
     "output_type": "stream",
     "text": [
      "16\n",
      "8.0\n",
      "8.0\n",
      "8.0\n",
      "16\n"
     ]
    }
   ],
   "source": [
    "#<程序：四则运算例子> \n",
    "def do_div(a, b): \n",
    "    c=a/b                #a, b, c 都是 do_div()中的局部变量 \n",
    "    print (c); return c \n",
    "def do_mul(a, b):      \n",
    "    global c ; c=a*b     #a, b 是 do_mul()的局部变量，c 是全局变量 \n",
    "    print (c) ; return c \n",
    "def do_sub(a, b):        \n",
    "    c=a-b                 #a, b, c 都是 do_sub()中的局部变量 \n",
    "    c=do_mul(c, c)      \n",
    "    c=do_div(c, 2)      \n",
    "    print (c); return c           \n",
    "def do_add(a, b):        #参数 a 和 b 是 do_add()中的局部变量            \n",
    "    c=a + b              #全局变量 c，修改了 c 的值 \n",
    "    c=do_sub(c, 1)       #再次修改了全局变量 c 的值 \n",
    "    print (c)          \n",
    "#所有函数外先执行: \n",
    "a=3                      #全局变量 a \n",
    "b=2                      #全局变量 b \n",
    "c=1                      #全局变量 c \n",
    "do_add(a, b)             #全局变量 a 和 b 作为参数传递给 do_add() \n",
    "print (c)                #全局变量 c "
   ]
  },
  {
   "cell_type": "markdown",
   "metadata": {},
   "source": [
    "六、嵌套函数中局部与全局变量的练习。分析<程序：嵌套函数局部与全 局变量练习>，每个变量分别是局部变量还是全局变量，同时说出打印结果。\n",
    "~~~\n",
    "#<程序：嵌套函数局部与全局变量练习> \n",
    "a=1;b=2 \n",
    "def fun(x): \n",
    "    def F(): \n",
    "        global a ;  a=x+y+b \n",
    "        return a \n",
    "    y=12 ; x=x+2 ; a=F() \n",
    "fun(b) \n",
    "print(\"Finally, a is: %d and b is: %d\"%(a,b))   \n",
    "~~~\n",
    "（10分）"
   ]
  },
  {
   "cell_type": "markdown",
   "metadata": {},
   "source": [
    "全局变量有a,b,局部变量有x,y<br/>\n",
    "最后打印的a值为18，b值为2<br/>\n",
    "分析:<br/>\n",
    "1.b作为参数传入函数fun(x)中，赋给局部变量x<br/>\n",
    "2.赋值12给局部变量y,赋值x+2给局部变量x<br/>\n",
    "3.调用嵌套函数F(),赋值x+y+b给全局变量a,a的值为18,b的值仍为2"
   ]
  },
  {
   "cell_type": "code",
   "execution_count": 14,
   "metadata": {},
   "outputs": [
    {
     "name": "stdout",
     "output_type": "stream",
     "text": [
      "Finally, a is: 18 and b is: 2\n"
     ]
    }
   ],
   "source": [
    "a=1;b=2 \n",
    "def fun(x): \n",
    "    def F(): \n",
    "        global a ;  a=x+y+b \n",
    "        return a \n",
    "    y=12 ; x=x+2 ; a=F() \n",
    "fun(b) \n",
    "print(\"Finally, a is: %d and b is: %d\"%(a,b))"
   ]
  },
  {
   "cell_type": "markdown",
   "metadata": {},
   "source": [
    "七、假设一个列表为 L，则 L.reverse() 和 L[-1:-1-len(L):-1] 的差别在哪里？（10分）"
   ]
  },
  {
   "cell_type": "markdown",
   "metadata": {},
   "source": [
    "l.reverse()会改变这个列表<br>\n",
    "后者不会改变原列表，只是复制了原列表中的元素"
   ]
  },
  {
   "cell_type": "markdown",
   "metadata": {},
   "source": [
    "八、假设一个列表为 L ，我们知道 L.remove(x) 是除去 L 中第一个值为 x 的元素，那么要除去 L 中所有是 x 的元素，要怎么办？（10分）"
   ]
  },
  {
   "cell_type": "code",
   "execution_count": 9,
   "metadata": {},
   "outputs": [
    {
     "name": "stdout",
     "output_type": "stream",
     "text": [
      "[2, 3]\n"
     ]
    }
   ],
   "source": [
    "L=[1,2,3,1,1,1,1,1];i=0\n",
    "while i<len(L):\n",
    "    if L[i]==1:\n",
    "        L.remove(1)\n",
    "    else:i=i+1\n",
    "print(L)\n"
   ]
  },
  {
   "cell_type": "code",
   "execution_count": 10,
   "metadata": {},
   "outputs": [
    {
     "name": "stdout",
     "output_type": "stream",
     "text": [
      "[1]\n"
     ]
    }
   ],
   "source": [
    "a=5;L=[1,5,5,5,5,5]\n",
    "while a in L:\n",
    "    L.remove(a)\n",
    "print(L)"
   ]
  },
  {
   "cell_type": "markdown",
   "metadata": {},
   "source": [
    "九、如何用 L.insert(i,x) 实现 L.append(x)?（10分）"
   ]
  },
  {
   "cell_type": "code",
   "execution_count": 8,
   "metadata": {},
   "outputs": [
    {
     "name": "stdout",
     "output_type": "stream",
     "text": [
      "[1, 2, 3, 4]\n"
     ]
    }
   ],
   "source": [
    "def append(l,x):\n",
    "    l.insert(len(l),x)\n",
    "    return l\n",
    "print(append([1,2,3],4))"
   ]
  },
  {
   "cell_type": "markdown",
   "metadata": {},
   "source": [
    "十、利用 for 循环将一个字符串列表的双重倒转。给定一个字符串列表， 将整个序列倒转，同时每个字符串元素也要倒转，输出倒转后的列表。<br>\n",
    "比如 L=['It  is','very  very','funny','!'] ； 则 完 全 倒 转 的 结 果 为 L_new=['!','ynnuf','yrev yrev','si tI']。\n",
    "（10分）"
   ]
  },
  {
   "cell_type": "code",
   "execution_count": 15,
   "metadata": {},
   "outputs": [
    {
     "name": "stdout",
     "output_type": "stream",
     "text": [
      "['!', 'ynnuf', 'yrev yrev', 'si tI']\n"
     ]
    }
   ],
   "source": [
    "L=['It is','very very','funny','!']\n",
    "Q=L[::-1]\n",
    "L_new=[]\n",
    "for i in range(len(Q)):\n",
    "    A=Q[i]\n",
    "    S=A[len(A)-1:len(A)]\n",
    "    for i in range(2,len(A)+1):\n",
    "        S=S+A[len(A)-i:len(A)-i+1]\n",
    "    L_new.append(S)\n",
    "print(L_new)"
   ]
  },
  {
   "cell_type": "code",
   "execution_count": null,
   "metadata": {
    "collapsed": true
   },
   "outputs": [],
   "source": []
  }
 ],
 "metadata": {
  "kernelspec": {
   "display_name": "Python 3",
   "language": "python",
   "name": "python3"
  },
  "language_info": {
   "codemirror_mode": {
    "name": "ipython",
    "version": 3
   },
   "file_extension": ".py",
   "mimetype": "text/x-python",
   "name": "python",
   "nbconvert_exporter": "python",
   "pygments_lexer": "ipython3",
   "version": "3.6.3"
  }
 },
 "nbformat": 4,
 "nbformat_minor": 2
}
