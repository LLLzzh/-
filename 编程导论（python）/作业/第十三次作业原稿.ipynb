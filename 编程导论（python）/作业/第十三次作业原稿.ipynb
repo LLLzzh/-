{
 "cells": [
  {
   "cell_type": "markdown",
   "metadata": {},
   "source": [
    "# 华东师范大学计算机科学技术系作业\n",
    "\n",
    " | 华东师范大学计算机科学技术系作业 | |\n",
    ":- | :- | :- \n",
    " 课程名称：编程导论Python | 年级：2018级| 作业成绩：\n",
    " 指导教师：杨燕 | 姓名：黎明  |  提交作业日期：2019年1月2日  \n",
    " 专业：计算机系 | 学号：***********  |  作业编号： 12\n",
    " -----------------------------"
   ]
  },
  {
   "cell_type": "markdown",
   "metadata": {},
   "source": [
    "一、编程实现随机产生1个20位的数，使得该数与111这个数互质。（20分）"
   ]
  },
  {
   "cell_type": "code",
   "execution_count": null,
   "metadata": {
    "collapsed": true
   },
   "outputs": [],
   "source": []
  },
  {
   "cell_type": "markdown",
   "metadata": {},
   "source": [
    "二、写Python程序算出$a^xmod b$的值。函数`mod(a, x, b)`返回$a^xmod b$的值。假设$a$和$b$都是最多为10位的整数，而$x$可以是最多为200位的整数。请用递归编写此程序。（20分）"
   ]
  },
  {
   "cell_type": "code",
   "execution_count": null,
   "metadata": {
    "collapsed": true
   },
   "outputs": [],
   "source": []
  },
  {
   "cell_type": "markdown",
   "metadata": {},
   "source": [
    "三、世界上常用的一种安全编码方式为RSA，其中产生公钥和私钥的过程中会用到本章介绍的倒数的概念。其实现方式为：给定两个质数$p$，$q$，随机产生一个奇数$e$，满足$e < (p-1)(q-1)$，而且$e$与$(p-1)(q-1)$互质，即$gcd(e, (p-1)(q-1)) = 1$。在$e$的基础上产生$e$的倒数$d$，即$e·d = 1(mod(p-1)(q-1))$。以上过程中产生的$e$即为公钥，$d$即为私钥。\n",
    "<br/>\n",
    "请编程实现求解私钥：对于给定的两个质数$p = 128543041447753$和$q = 1062573853363145487845851$，先随机产生$e < (p-1)(q-1$并且满足$gcd(e, (p-1)(q-1)) = 1$，然后求$d$并打印出来。（20分）"
   ]
  },
  {
   "cell_type": "code",
   "execution_count": null,
   "metadata": {
    "collapsed": true
   },
   "outputs": [],
   "source": []
  },
  {
   "cell_type": "markdown",
   "metadata": {},
   "source": [
    "四、请将<程序：combination_3>的代码改成可以处理L有重复元素的情况。（20分）"
   ]
  },
  {
   "cell_type": "code",
   "execution_count": null,
   "metadata": {
    "collapsed": true
   },
   "outputs": [],
   "source": []
  },
  {
   "cell_type": "markdown",
   "metadata": {},
   "source": [
    "五、改写<程序：combination_4>。使得从`L`的第一个元素开始考虑，而不是从最后一个开始考虑。也就是说首先考虑一定选择第一个数`L[0]`，然后从剩下的$n-1$个数中选$k-1$个数的组合了然后，一定不选`L[0]`，一定选第二个数`L[1]`，再从剩下的$n-2$个数中选取$k-1$个数的组合；以此类推。（20分）"
   ]
  },
  {
   "cell_type": "code",
   "execution_count": null,
   "metadata": {
    "collapsed": true
   },
   "outputs": [],
   "source": []
  }
 ],
 "metadata": {
  "kernelspec": {
   "display_name": "Python 3",
   "language": "python",
   "name": "python3"
  },
  "language_info": {
   "codemirror_mode": {
    "name": "ipython",
    "version": 3
   },
   "file_extension": ".py",
   "mimetype": "text/x-python",
   "name": "python",
   "nbconvert_exporter": "python",
   "pygments_lexer": "ipython3",
   "version": "3.6.3"
  }
 },
 "nbformat": 4,
 "nbformat_minor": 2
}
