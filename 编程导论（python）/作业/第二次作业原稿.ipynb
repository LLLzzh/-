{
 "cells": [
  {
   "cell_type": "markdown",
   "metadata": {},
   "source": [
    "### 华东师范大学计算机科学技术系作业\n",
    "\n",
    " | 华东师范大学计算机科学技术系作业 | |\n",
    ":- | :- | :- \n",
    " 课程名称：编程导论Python | 年级：2018级| 作业成绩：\n",
    " 指导教师：杨燕 | 姓名：  |  提交作业日期：2018年10月11日  \n",
    " 专业：计算机系 | 学号：  |  作业编号：2 \n",
    " -----------------------------"
   ]
  },
  {
   "cell_type": "markdown",
   "metadata": {},
   "source": [
    "一、\t已知变量a=4，b=2，c=7,请分别写出下列表达式语句中变量x的值。（8分）\n",
    "\n",
    "（1）x=a+b （2）x=a%b （3）x=a\\*b （4）x=a**b\n",
    "\n",
    "（5）x=a/b （6）x=a//b （7）x=a/c （8）x=a//c"
   ]
  },
  {
   "cell_type": "code",
   "execution_count": null,
   "metadata": {
    "collapsed": true
   },
   "outputs": [],
   "source": []
  },
  {
   "cell_type": "markdown",
   "metadata": {},
   "source": [
    "二、\t已知布尔类型变量 a=True，b=False，c=True，请分别求出下面表达式的布尔值。(6分)\n",
    "\n",
    "（1）a and b （2）a or b （3）not (a and b) （4）not(a or b)\n",
    "\n",
    "（5）(a or a) and b and (a or b) （6）(a and not b) or (not a or b)"
   ]
  },
  {
   "cell_type": "code",
   "execution_count": null,
   "metadata": {
    "collapsed": true
   },
   "outputs": [],
   "source": []
  },
  {
   "cell_type": "markdown",
   "metadata": {},
   "source": [
    "三、 改进<程序：求二维线性方程组例子2>，使其能考虑当系数为0时的特殊情况并求解。（5分）"
   ]
  },
  {
   "cell_type": "code",
   "execution_count": null,
   "metadata": {
    "collapsed": true
   },
   "outputs": [],
   "source": []
  },
  {
   "cell_type": "markdown",
   "metadata": {},
   "source": [
    "四、\t请试写一个程序求解三维线性方组。（在本书第五章“熟练递归编程”章节中会讲到如何设计简单程序来解决n维线性方程组的求解问题。）（5分）"
   ]
  },
  {
   "cell_type": "code",
   "execution_count": null,
   "metadata": {
    "collapsed": true
   },
   "outputs": [],
   "source": []
  },
  {
   "cell_type": "markdown",
   "metadata": {},
   "source": [
    "五、\t写一个 Python程序，给出 w,x,y,z 四个数，将这四个数从大到小 print出来。（5分）"
   ]
  },
  {
   "cell_type": "code",
   "execution_count": null,
   "metadata": {
    "collapsed": true
   },
   "outputs": [],
   "source": []
  },
  {
   "cell_type": "markdown",
   "metadata": {},
   "source": [
    "六、\t请给出一个 Python 程序段，用for循环求解$(x+2)^n$ 展开式的系数，其中n为给定的值，程序段要输出一个由展开式各项系数所组成的列表，例如，$(x+2)^2$ 展开式的系数列表为[1,4,4]。（5分）"
   ]
  },
  {
   "cell_type": "code",
   "execution_count": null,
   "metadata": {
    "collapsed": true
   },
   "outputs": [],
   "source": []
  },
  {
   "cell_type": "markdown",
   "metadata": {},
   "source": [
    "七、\t请给出一个 Python 程序段，用 for 循环和 print 语句输出从1到100 之间的所有奇数。（5分）"
   ]
  },
  {
   "cell_type": "code",
   "execution_count": null,
   "metadata": {
    "collapsed": true
   },
   "outputs": [],
   "source": []
  },
  {
   "cell_type": "markdown",
   "metadata": {},
   "source": [
    "八、\t给出一个列表，请用 for 循环检查列表中是否存在负数。写出两个Python 程序，一个程序使用 break 语句，另一个不使用。（5分）"
   ]
  },
  {
   "cell_type": "code",
   "execution_count": null,
   "metadata": {
    "collapsed": true
   },
   "outputs": [],
   "source": []
  },
  {
   "cell_type": "markdown",
   "metadata": {},
   "source": [
    "九、\t给定一个 for 条件：for i in range(1,100,2)，请把它改为 while 语句。（5分）"
   ]
  },
  {
   "cell_type": "code",
   "execution_count": null,
   "metadata": {
    "collapsed": true
   },
   "outputs": [],
   "source": []
  },
  {
   "cell_type": "markdown",
   "metadata": {},
   "source": [
    "十、\t给定一个整数数列表 L，输出由列表中每一个包含它自己以及前面所有元素之和构成的新列表，例如 L=[1,2,3,4,5]，输出的新列表为[1,3,6,10,15]。（5分）"
   ]
  },
  {
   "cell_type": "code",
   "execution_count": null,
   "metadata": {
    "collapsed": true
   },
   "outputs": [],
   "source": []
  },
  {
   "cell_type": "markdown",
   "metadata": {},
   "source": [
    "十一、\t写一个Python程序，打印“我喜欢编程导论”，并用 print(chr(0x2605))语句打印的星星围起来。（5分）"
   ]
  },
  {
   "cell_type": "code",
   "execution_count": null,
   "metadata": {
    "collapsed": true
   },
   "outputs": [],
   "source": []
  },
  {
   "cell_type": "markdown",
   "metadata": {},
   "source": [
    "十二、\t写一个Python 程序，用 print（“X”）打印出一个等腰三角形，第一行一个 X 居中，第二行三个 X 居中，第三行 5 个 X 居中，以此类推，共打印 10 行。（5分）"
   ]
  },
  {
   "cell_type": "code",
   "execution_count": null,
   "metadata": {
    "collapsed": true
   },
   "outputs": [],
   "source": []
  },
  {
   "cell_type": "markdown",
   "metadata": {},
   "source": [
    "十三、\t写一个Python程序，分别用 for 和 while 循环实现对一个给定序列的倒排序输出。如给定 L=[1,2,3,4,5]，输出为[5,4,3,2,1]。（5分）"
   ]
  },
  {
   "cell_type": "code",
   "execution_count": null,
   "metadata": {
    "collapsed": true
   },
   "outputs": [],
   "source": []
  },
  {
   "cell_type": "markdown",
   "metadata": {},
   "source": [
    "十四、\t给定一个字符串 S，去掉其中所有的空格。例如“I love python”去掉空格后为“Ilovepython”。（5分）"
   ]
  },
  {
   "cell_type": "code",
   "execution_count": null,
   "metadata": {
    "collapsed": true
   },
   "outputs": [],
   "source": []
  },
  {
   "cell_type": "markdown",
   "metadata": {},
   "source": [
    "十五、\t给定一个整数列表，如何将这个列表的内容转换为用“,”间隔的字符串？例如 L=[3,1,2,4]，转换成字符串就是“3,1,2,4”。注意，先要把每个元素转换为字符串，在转换前还需要用字符串函数 isdigit()检查列表元素是否为数字。（5分"
   ]
  },
  {
   "cell_type": "code",
   "execution_count": null,
   "metadata": {
    "collapsed": true
   },
   "outputs": [],
   "source": []
  },
  {
   "cell_type": "markdown",
   "metadata": {},
   "source": [
    "十六、 写一个Python 程序，检查一个字符串是否为 Python可以接受的小数或整数形式。例如：s=“3.5”或“3”或“3.”或“.3” 的检查结果输出为 True。（5分）"
   ]
  },
  {
   "cell_type": "code",
   "execution_count": null,
   "metadata": {
    "collapsed": true
   },
   "outputs": [],
   "source": []
  },
  {
   "cell_type": "markdown",
   "metadata": {},
   "source": [
    "十七、 写一个Python 程序，判断一个字符串是否为回文字符串。回文字符串的意思是字符串顺序和逆序完全相同，如字符串“ABCBA”就是一个回文字符串， 而“ABCBAC”就不是回文字符串。（6分）"
   ]
  },
  {
   "cell_type": "code",
   "execution_count": null,
   "metadata": {
    "collapsed": true
   },
   "outputs": [],
   "source": []
  },
  {
   "cell_type": "markdown",
   "metadata": {},
   "source": [
    "十八、\t假设L=[7，15，6，3，8，4，1，12]，使用选择排序法对序列L排序，并将排序步骤用类似书中排序例题图示的方法表示出来。（5分）"
   ]
  },
  {
   "cell_type": "markdown",
   "metadata": {},
   "source": []
  },
  {
   "cell_type": "markdown",
   "metadata": {},
   "source": [
    "十九、\t请写出你认为解决菜鸡狼这类问题的基本思路，你是否能找到存在更多相克的物品并且船每次可运输两种物品时的解决方法？请用伪代码或自然语言描述（5分）"
   ]
  },
  {
   "cell_type": "markdown",
   "metadata": {},
   "source": []
  }
 ],
 "metadata": {
  "kernelspec": {
   "display_name": "Python 3",
   "language": "python",
   "name": "python3"
  },
  "language_info": {
   "codemirror_mode": {
    "name": "ipython",
    "version": 3
   },
   "file_extension": ".py",
   "mimetype": "text/x-python",
   "name": "python",
   "nbconvert_exporter": "python",
   "pygments_lexer": "ipython3",
   "version": "3.6.3"
  }
 },
 "nbformat": 4,
 "nbformat_minor": 2
}
