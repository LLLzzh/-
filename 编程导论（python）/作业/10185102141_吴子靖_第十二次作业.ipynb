{
 "cells": [
  {
   "cell_type": "markdown",
   "metadata": {},
   "source": [
    "# 华东师范大学计算机科学技术系作业\n",
    "\n",
    " | 华东师范大学计算机科学技术系作业 | |\n",
    ":- | :- | :- \n",
    " 课程名称：编程导论Python | 年级：2018级| 作业成绩：\n",
    " 指导教师：杨燕 | 姓名：吴子靖 |  提交作业日期：2018年12月26日  \n",
    " 专业：计算机系 | 学号：10185102141 |  作业编号： 11\n",
    " -----------------------------"
   ]
  },
  {
   "cell_type": "markdown",
   "metadata": {},
   "source": [
    "一、要如何改写#<程序：递归实现二分查找>，使得若 k大于 L[len(L)//2]，调用 BinSearch($L[len(L)//2+1:],k$)。注意,return 的索引$len(L)//2+index$要改动。另外，可否去掉 if len(L)==1的检查。\n",
    "<br/>\n",
    "（15分）"
   ]
  },
  {
   "cell_type": "markdown",
   "metadata": {},
   "source": [
    "    可以去掉 if len(L) == 1 的检查，因为当改写程序之后,k ==，<,>len(L//2) 已经具备了对应不同L长度的情况"
   ]
  },
  {
   "cell_type": "code",
   "execution_count": 13,
   "metadata": {},
   "outputs": [
    {
     "name": "stdout",
     "output_type": "stream",
     "text": [
      "请输入一串有序数列:12 43 78 134 568 1234\n",
      "请输入上述数列中的一个元素134\n",
      "通过内置index函数查找的索引为: 3\n",
      "通过BinSearch函数查找的索引为: (True, 3)\n"
     ]
    }
   ],
   "source": [
    "def BinSearch(L,k):\n",
    "    if L == []:\n",
    "        return False\n",
    "    if k == L[len(L)//2]:\n",
    "        return True,len(L)//2\n",
    "    if k < L[len(L)//2]:\n",
    "        return BinSearch(L[:len(L)//2],k)\n",
    "    else:\n",
    "        k += len(L)//2\n",
    "        return BinSearch(L[len(L)//2+1:],k)\n",
    "L = list(map(int,input(\"请输入一串有序数列:\").split()))\n",
    "k = int(input(\"请输入上述数列中的一个元素\"))\n",
    "print(\"通过内置index函数查找的索引为:\",L.index(k))\n",
    "print(\"通过BinSearch函数查找的索引为:\",BinSearch(L,k))"
   ]
  },
  {
   "cell_type": "markdown",
   "metadata": {},
   "source": [
    "二、非递归实现二分法求解问题中的程序#<程序：二分法递归查找插入位置 >。\n",
    "<br/>\n",
    "（10分）"
   ]
  },
  {
   "cell_type": "code",
   "execution_count": 29,
   "metadata": {},
   "outputs": [
    {
     "name": "stdout",
     "output_type": "stream",
     "text": [
      "请输入一串有序数列:1 5 8 45 78 97 13456 345678\n",
      "请输入一个整数:1024\n",
      "原列表为: [1, 5, 8, 45, 78, 97, 13456, 345678]\n",
      "插入位置索引为: 6\n",
      "插入k后的列表是: [1, 5, 8, 45, 78, 97, 1024, 13456, 345678]\n"
     ]
    }
   ],
   "source": [
    "L = list(map(int,input(\"请输入一串有序数列:\").split()))\n",
    "k = int(input(\"请输入一个整数:\"))\n",
    "L1 = L[:];index = 0\n",
    "while len(L1) > 1:\n",
    "    if k < L1[len(L1)//2]:\n",
    "        L1 = L1[:len(L1)//2]\n",
    "    elif k > L1[len(L1)//2]:\n",
    "        index += len(L1)//2\n",
    "        L1 = L1[len(L1)//2:]\n",
    "    else:\n",
    "        index += len(L1)//2\n",
    "        break\n",
    "    if len(L1) == 1:\n",
    "        if k > L1[0]:\n",
    "            index += 1\n",
    "L2 = L[:index] + [k] + L[index:]\n",
    "print(\"原列表为:\",L)\n",
    "print(\"插入位置索引为:\",index)\n",
    "print(\"插入k后的列表是:\",L2)"
   ]
  },
  {
   "cell_type": "markdown",
   "metadata": {},
   "source": [
    "三、<程序：二分法递归查找插入位置 >中，假如去掉`“if k<L[0]: return index_min”`，程序是否还正确？ \n",
    "<br/>\n",
    "（10分）"
   ]
  },
  {
   "cell_type": "markdown",
   "metadata": {},
   "source": [
    "正确，因为去掉“if k<L[0]: return index_min”，无非是增加了递归次数，当L的长度被分片到1\n",
    "时，L[mid]也就等于L[0]了，if k<L[0]: return index_min还是改善程序速度，并不影响程序对错"
   ]
  },
  {
   "cell_type": "code",
   "execution_count": 27,
   "metadata": {},
   "outputs": [
    {
     "name": "stdout",
     "output_type": "stream",
     "text": [
      "4\n"
     ]
    }
   ],
   "source": [
    "def binary_r0_Insert(L,k):\n",
    "    def r0_Insert(L,index_min):\n",
    "        if len(L) == 0:\n",
    "            return index_min\n",
    "        if k > L[len(L)-1]:\n",
    "            return index_min + len(L)\n",
    "        mid = len(L)//2\n",
    "        if L[mid] > k:\n",
    "            x = r0_Insert(L[:mid],index_min)\n",
    "        elif L[mid] < k:\n",
    "            x = r0_Insert(L[mid+1:],index_min_+mid+1)\n",
    "        else:\n",
    "            x = index_min + mid + 1\n",
    "        return x\n",
    "    return r0_Insert(L,0)\n",
    "L = [1,2,4,5]\n",
    "k = 9\n",
    "print(binary_r0_Insert(L,k))"
   ]
  },
  {
   "cell_type": "markdown",
   "metadata": {},
   "source": [
    "四、修改求解算术平方根问题中的<程序：算数平方根运算-二分法 >的 代码，使其可以求解一个实数c的k次方跟。（函数有c和k两个参数 ）\n",
    "<br/>\n",
    "（10分）"
   ]
  },
  {
   "cell_type": "code",
   "execution_count": 39,
   "metadata": {},
   "outputs": [
    {
     "name": "stdout",
     "output_type": "stream",
     "text": [
      "1000\n",
      "3\n",
      "c的k次方根为: 10.000000000000009\n"
     ]
    }
   ],
   "source": [
    "def n_root(c,k):\n",
    "    i = 0;m_max = c;m_min = 0\n",
    "    g = (m_min + m_max)/2\n",
    "    while (abs(pow(g,k)-c) > 0.00000000001):\n",
    "        if (pow(g,k) < c):\n",
    "            m_min = g\n",
    "        else:\n",
    "            m_max = g\n",
    "        g = (m_min + m_max)/2\n",
    "    return g\n",
    "c = eval(input());k = eval(input())\n",
    "print(\"c的k次方根为:\",n_root(c,k))"
   ]
  },
  {
   "cell_type": "markdown",
   "metadata": {},
   "source": [
    "五、编写代码，求解$lgx=a$，精度为 0.00000000001。函数的形式为：`def log(a):… return `\n",
    "<br/>\n",
    "（15分）"
   ]
  },
  {
   "cell_type": "code",
   "execution_count": 12,
   "metadata": {},
   "outputs": [
    {
     "name": "stdout",
     "output_type": "stream",
     "text": [
      "请输入一个大于0的数:20\n",
      "lg(20)= 1.3010299956640665\n"
     ]
    }
   ],
   "source": [
    "def log(a):#10^a=x\n",
    "    if a == 1:\n",
    "        return 0\n",
    "    elif a > 1:\n",
    "        b = len(str(int(a)))\n",
    "        Min = 0\n",
    "        Max = b\n",
    "    else:\n",
    "        b = 0\n",
    "        c = a\n",
    "        while c < 1:\n",
    "            c = c * 10\n",
    "            b -= 1\n",
    "        Max = 0\n",
    "        Min = b\n",
    "    g = (Min + Max)/2 \n",
    "    while abs(pow(10,g)-a) > 0.00000000001:\n",
    "        if pow(10,g) > a:\n",
    "            Max = g\n",
    "            g = (Min + Max)/2   \n",
    "        else:\n",
    "            Min = g\n",
    "            g = (Min + Max)/2 \n",
    "    return g\n",
    "x = eval(input(\"请输入一个大于0的数:\"))\n",
    "print(\"lg(%d)=\"%(x),log(x))"
   ]
  },
  {
   "cell_type": "markdown",
   "metadata": {},
   "source": [
    "六、假如有n个钱币，其中有一个钱币是假的，已知假的钱币比较轻，你只有一个天平，如何用非递归和递归思维来找到这个假币？请写出Python程序。请先写出一个起始函数来设定一个列表，列表有100个1，代表100个钱币，再随机设定一索引值，将其改为小于1的任意数，代表是个假钱币。你的程序要输出这个假钱币的索引。\n",
    "<br/>\n",
    "（20分）"
   ]
  },
  {
   "cell_type": "code",
   "execution_count": 9,
   "metadata": {},
   "outputs": [
    {
     "name": "stdout",
     "output_type": "stream",
     "text": [
      "所生成的列表是: [1, 1, 1, 1, 1, 1, 1, 1, 1, 1, 1, 1, 1, 1, 1, 1, 1, 1, 1, 1, 1, 1, 1, 1, 1, 1, 1, 1, 1, 1, 1, 1, 1, 1, 1, 1, 1, 1, 1, 1, 1, 1, 1, 1, 1, 1, 1, 1, 1, 1, 1, 1, 1, 1, 1, 1, 0.8238039854007045, 1, 1, 1, 1, 1, 1, 1, 1, 1, 1, 1, 1, 1, 1, 1, 1, 1, 1, 1, 1, 1, 1, 1, 1, 1, 1, 1, 1, 1, 1, 1, 1, 1, 1, 1, 1, 1, 1, 1, 1, 1, 1, 1]\n",
      "设置的假币值为: 0.8238039854007045\n",
      "事先设置的假币的位置是: 56\n",
      "用非递归所找到的假币索引为: 56\n",
      "用二分法递归找到的假币索引为 56\n"
     ]
    }
   ],
   "source": [
    "# 生成所需的列表\n",
    "import random\n",
    "index = random.randint(0,99)\n",
    "weight = random.uniform(0,1)\n",
    "L = [1]*100\n",
    "L[index] = weight\n",
    "print(\"所生成的列表是:\",L)  #展示生成的列表和索引\n",
    "print(\"设置的假币值为:\",weight)\n",
    "print(\"事先设置的假币的位置是:\",index)\n",
    "\n",
    "# 非递归思维的程序\n",
    "def find_fake_one(L):\n",
    "    L1 = L[:]\n",
    "    for i in range (0,len(L1)):\n",
    "        if L1[i] != L1[i+1]:\n",
    "            if L1[i] < L1[i+1]:\n",
    "                return i\n",
    "            else:\n",
    "                return i+1\n",
    "    return (\"假币不存在!\")\n",
    "\n",
    "#递归思维解决：二分法\n",
    "i = 0\n",
    "def find_fake_two(a,L):\n",
    "    x = len(L)\n",
    "    if x == 1:\n",
    "        return a\n",
    "    if x % 2 == 1:\n",
    "        x = x - 1\n",
    "        y = 1\n",
    "    else:\n",
    "        y = 0\n",
    "    if sum(L[:x//2]) < sum(L[x//2:x]):\n",
    "        return find_fake_two(a,L[:x//2])\n",
    "    elif sum(L[:x//2]) > sum(L[x//2:x]):\n",
    "        return find_fake_two(a+x//2,L[x//2:x])\n",
    "    else:\n",
    "        if y == 0:\n",
    "            return (\"假币不存在!\")\n",
    "        else:\n",
    "            if L[x] < L[0]:\n",
    "                return a+x\n",
    "            else:\n",
    "                return (\"假币不存在!\")\n",
    "print(\"用非递归所找到的假币索引为:\",find_fake_one(L))\n",
    "print(\"用二分法递归找到的假币索引为\",find_fake_two(0,L))        "
   ]
  },
  {
   "cell_type": "markdown",
   "metadata": {},
   "source": [
    "七、编程实现求 k(k>=3)个数的最大公因。 \n",
    "<br/>\n",
    "（10分）"
   ]
  },
  {
   "cell_type": "code",
   "execution_count": 2,
   "metadata": {},
   "outputs": [
    {
     "name": "stdout",
     "output_type": "stream",
     "text": [
      "请输入一串数字96 24 56 1200 256\n",
      "这些数的最大公因数是: 8\n"
     ]
    }
   ],
   "source": [
    "def gcd(x,n):\n",
    "    if x < n:\n",
    "        x,n = n,x\n",
    "    while x % n != 0:\n",
    "        t = n\n",
    "        n = x % n\n",
    "        x = t\n",
    "    return n\n",
    "L = list(map(int,input(\"请输入一串数字\").split()))\n",
    "a = L[0] \n",
    "for i in range (1,len(L)):\n",
    "    a = gcd(a,L[i])\n",
    "print(\"这些数的最大公因数是:\",a)"
   ]
  },
  {
   "cell_type": "markdown",
   "metadata": {},
   "source": [
    "八、编程实现求解 k(k>=3)个数的最小公倍数。\n",
    "<br/>\n",
    "（10分）"
   ]
  },
  {
   "cell_type": "code",
   "execution_count": 5,
   "metadata": {},
   "outputs": [
    {
     "name": "stdout",
     "output_type": "stream",
     "text": [
      "请输入一串数字2 8 36 32 512\n",
      "这些数的最小公倍数是: 4608\n"
     ]
    }
   ],
   "source": [
    "def lcm(x,n):\n",
    "    if x < n:\n",
    "        x,n = n,x\n",
    "    a,b = x,n \n",
    "    while x % n != 0:\n",
    "        t = n\n",
    "        n = x % n\n",
    "        x = t\n",
    "    return a*b//n\n",
    "L = list(map(int,input(\"请输入一串数字\").split()))\n",
    "a = L[0] \n",
    "for i in range (1,len(L)):\n",
    "    a = lcm(a,L[i])\n",
    "print(\"这些数的最小公倍数是:\",a)"
   ]
  }
 ],
 "metadata": {
  "kernelspec": {
   "display_name": "Python 3",
   "language": "python",
   "name": "python3"
  },
  "language_info": {
   "codemirror_mode": {
    "name": "ipython",
    "version": 3
   },
   "file_extension": ".py",
   "mimetype": "text/x-python",
   "name": "python",
   "nbconvert_exporter": "python",
   "pygments_lexer": "ipython3",
   "version": "3.6.5"
  }
 },
 "nbformat": 4,
 "nbformat_minor": 2
}
