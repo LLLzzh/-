{
 "cells": [
  {
   "cell_type": "markdown",
   "metadata": {},
   "source": [
    "# 华东师范大学计算机科学技术系作业\n",
    "\n",
    " | 华东师范大学计算机科学技术系作业 | |\n",
    ":- | :- | :- \n",
    " 课程名称：编程导论Python | 年级：2018级| 作业成绩：\n",
    " 指导教师：杨燕 | 姓名：黎明  |  提交作业日期：2018年10月31日  \n",
    " 专业：计算机系 | 学号：***********  |  作业编号： 4\n",
    " -----------------------------"
   ]
  },
  {
   "cell_type": "markdown",
   "metadata": {},
   "source": [
    "一、 第1章介绍了合并两个有序列表，使得合并后的列表仍然有序的问题，并写出了解决该问题的算法，但是没有给出具体的python代码。\n",
    "<br/>\n",
    "    现在将上述问题用函数merge(L1,L2)来实现，该函数的功能为：输入参数是两个从小到大排好序的整数列表L1和L2，返回合成后的从小到大排好序的大列表X。例如，merge([1,4,5],[2,7])会返回[1,2,4,5,7]；merge([],[2,3,4])会返回[2,3,4]。请按下列要求用python实现该函数。\n",
    "<br/>\n",
    "    要求：\n",
    "<br/>\n",
    "    （1）程序中比较两列表元素大小的次数不能超过len(L1)+len(L2)。\n",
    "<br/>\n",
    "    （2）只能用列表append()和len()函数。\n",
    "<br/>\n",
    "（20分）"
   ]
  },
  {
   "cell_type": "code",
   "execution_count": null,
   "metadata": {
    "collapsed": true
   },
   "outputs": [],
   "source": []
  },
  {
   "cell_type": "markdown",
   "metadata": {},
   "source": [
    "二、\t请改写本章中<程序：整数的十-二进制转换>python程序，完成十进制到二进制的包括小数的转换。输入是一个带小数点的十进制数，输出是一个带有小数点的二进制数，假设精确度是8位。\n",
    "<br/>\n",
    "（20分）"
   ]
  },
  {
   "cell_type": "code",
   "execution_count": null,
   "metadata": {
    "collapsed": true
   },
   "outputs": [],
   "source": []
  },
  {
   "cell_type": "markdown",
   "metadata": {},
   "source": [
    "三、黑色星期五（13号是一个星期五）。 13号在星期五比在其他日子少吗 ?为了回答这个问题 ,写一个程序，要求计算每个月的13号分别为周一到周日的次数。给出N年的一个周期，要求计算1900年1月1日至1900+N-1年12月31日中13号落在周一到周日的次数，N为正整数且不大于400。\n",
    "<br/>\n",
    "输入为：一个数字N。\n",
    "<br/>\n",
    "输出为：7个整数，分别表示13号在周一到周日的次数。\n",
    "<br/>\n",
    "提示：\n",
    "<br/>\n",
    "（1）1900年1月1日是星期一。\n",
    "<br/>\n",
    "（2）4、6、9和11月有30天，其他月份除了2月都有31天。闰年2月有29天，平年2月有28天。\n",
    "<br/>\n",
    "（3）年份可以被4整除的为闰年(1992=4*498 所以 1992年是闰年,但是1990年不是闰年)\n",
    "<br/>\n",
    "（4）以上规则不适合于世纪年。可以被400整除的世纪年为闰年,否则为平年。所以,1700,1800,1900和2100年是平,而2000是闰年。\n",
    "<br/>\n",
    "（20分）"
   ]
  },
  {
   "cell_type": "code",
   "execution_count": null,
   "metadata": {
    "collapsed": true
   },
   "outputs": [],
   "source": []
  },
  {
   "cell_type": "markdown",
   "metadata": {},
   "source": [
    "四、挤牛奶，三个农民每天清晨5点起床，然后去牛棚给3头牛挤奶。第一个农民在300秒(从5点开始计时)给他的牛挤奶，一直挤到1000秒。第二个农民在700秒开始，在1200秒结束。第三个农民在1500秒开始，2100秒结束。期间至少有一个农民在挤奶的最长连续时为900秒(从300秒到1200秒)，而无人挤奶的最长连续时间 (从挤奶开始一直到挤奶结束)为300秒(从1200秒到1500秒)。\n",
    "<br/>\n",
    "要求编一个Python程序，输入N个农民 (1 <= N <= 5000)挤N头牛的工作时间列表，计算以下两个问题（均以s(秒)为单位）： \n",
    "<br/>\n",
    "（1）最长至少有一人在挤奶的时间段。\n",
    "<br/>\n",
    "（2）最长的无人挤奶时间段（从有人挤奶开始算起）。\n",
    "<br/>\n",
    "例如，输入为：[[300,1000],[700,1200],[1500,2100]]，则该输入的每一个元素为一个农民的挤奶时间段。输出：900 300。\n",
    "<br/>\n",
    "（20分）"
   ]
  },
  {
   "cell_type": "code",
   "execution_count": null,
   "metadata": {
    "collapsed": true
   },
   "outputs": [],
   "source": []
  },
  {
   "cell_type": "markdown",
   "metadata": {},
   "source": [
    "五、编写一个 Python程序，求回文平方数。给定一个进制B(2<=B<=10,由十进制表示)，输出所有满足以下条件的十进制数，条件：\n",
    "<br/>\n",
    "（1）1<=N<=300。\n",
    "<br/>\n",
    "（2）N的平方用B进制表示时是回文数，即回文平方数。\n",
    "<br/>\n",
    "例如，输入为：K=2。\n",
    "<br/>\n",
    "输出为：\n",
    "<br/>\n",
    "1 $\\quad$ 1 $\\quad$ 1\n",
    "<br/>\n",
    "3 $\\quad$ 9 $\\quad$ 1001\n",
    "<br/>\n",
    "输出中，每一行的第一个数为回文平方（十进制表示），第二列为该数的平方（十进制），第三列为平方的K进制表示。\n",
    "<br/>\n",
    "（20分）"
   ]
  },
  {
   "cell_type": "code",
   "execution_count": null,
   "metadata": {
    "collapsed": true
   },
   "outputs": [],
   "source": []
  },
  {
   "cell_type": "markdown",
   "metadata": {},
   "source": [
    "六、请以多项式$4x^{20}+3x^{10}+5$和多项式$2x^8+x-1$为例，使用本章中子列表形式的数据结构（第三种），编写多项式乘法和除法的Python程序。（20分）"
   ]
  },
  {
   "cell_type": "code",
   "execution_count": null,
   "metadata": {
    "collapsed": true
   },
   "outputs": [],
   "source": []
  }
 ],
 "metadata": {
  "kernelspec": {
   "display_name": "Python 3",
   "language": "python",
   "name": "python3"
  },
  "language_info": {
   "codemirror_mode": {
    "name": "ipython",
    "version": 3
   },
   "file_extension": ".py",
   "mimetype": "text/x-python",
   "name": "python",
   "nbconvert_exporter": "python",
   "pygments_lexer": "ipython3",
   "version": "3.6.3"
  }
 },
 "nbformat": 4,
 "nbformat_minor": 2
}
