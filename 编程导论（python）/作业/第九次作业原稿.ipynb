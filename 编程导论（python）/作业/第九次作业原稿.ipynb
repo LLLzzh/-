{
 "cells": [
  {
   "cell_type": "markdown",
   "metadata": {},
   "source": [
    "# 华东师范大学计算机科学技术系作业\n",
    "\n",
    " | 华东师范大学计算机科学技术系作业 | |\n",
    ":- | :- | :- \n",
    " 课程名称：编程导论Python | 年级：2018级| 作业成绩：\n",
    " 指导教师：杨燕 | 姓名：黎明  |  提交作业日期：2018年12月06日  \n",
    " 专业：计算机系 | 学号：***********  |  作业编号： 8\n",
    " -----------------------------"
   ]
  },
  {
   "cell_type": "markdown",
   "metadata": {},
   "source": [
    "一、用递归方式求 $(x+1)^n$展开式的系数列表，其中$n$为给定值，例如当$n=2$时，系数为$1, 2, 1$，输出系数组成的列表`[1, 2, 1]`\n",
    "<br/>\n",
    "（20分）"
   ]
  },
  {
   "cell_type": "code",
   "execution_count": null,
   "metadata": {
    "collapsed": true
   },
   "outputs": [],
   "source": []
  },
  {
   "cell_type": "markdown",
   "metadata": {},
   "source": [
    "二、\t给定一个字符串，用递归方式判断字符串中`\"1\"`的个数的奇偶性。例如字符串为`\"112101\"`，那么`\"1\"`的个数为4，是偶数。（假设`\"1\"`出现的次数为正数）\n",
    "<br/>\n",
    "（20分）"
   ]
  },
  {
   "cell_type": "code",
   "execution_count": null,
   "metadata": {
    "collapsed": true
   },
   "outputs": [],
   "source": []
  },
  {
   "cell_type": "markdown",
   "metadata": {},
   "source": [
    "三、写一个递归函数`DigitSum(n)`，输入一个非负整数，返回组成它的数字之和。例如，调用`DigitSum(1729)`，则应该返回`1+7+2+9`的和，即返回`19`。\n",
    "<br/>\n",
    "（20分）"
   ]
  },
  {
   "cell_type": "code",
   "execution_count": null,
   "metadata": {
    "collapsed": true
   },
   "outputs": [],
   "source": []
  },
  {
   "cell_type": "markdown",
   "metadata": {},
   "source": [
    "四、用递归方式求解如下数学问题；一个人赶着鸭子去每个村庄卖，每经过一个村子卖去所赶鸭子的一半又一只。这样，他经过七个村子之后还剩两只鸭子，问他出发的时候一共赶了多少只鸭子？在每个村子分别卖出多少只鸭子？\n",
    "<br/>\n",
    "（20分）"
   ]
  },
  {
   "cell_type": "code",
   "execution_count": null,
   "metadata": {
    "collapsed": true
   },
   "outputs": [],
   "source": []
  },
  {
   "cell_type": "markdown",
   "metadata": {},
   "source": [
    "五、用递归方式求从$m$个数里取$n$个数的组合个数。已知组合递推公式为：\n",
    "\n",
    "`comn(m, n) = comn(m-1, n-1) + comn(m-1, n)`\n",
    "\n",
    "例如$m=5, n=3$，则组合数为$10$。\n",
    "<br/>\n",
    "（20分）"
   ]
  },
  {
   "cell_type": "code",
   "execution_count": null,
   "metadata": {
    "collapsed": true
   },
   "outputs": [],
   "source": []
  }
 ],
 "metadata": {
  "kernelspec": {
   "display_name": "Python 3",
   "language": "python",
   "name": "python3"
  },
  "language_info": {
   "codemirror_mode": {
    "name": "ipython",
    "version": 3
   },
   "file_extension": ".py",
   "mimetype": "text/x-python",
   "name": "python",
   "nbconvert_exporter": "python",
   "pygments_lexer": "ipython3",
   "version": "3.6.3"
  }
 },
 "nbformat": 4,
 "nbformat_minor": 2
}
