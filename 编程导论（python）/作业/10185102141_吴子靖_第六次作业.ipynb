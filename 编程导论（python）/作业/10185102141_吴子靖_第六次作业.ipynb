{
 "cells": [
  {
   "cell_type": "markdown",
   "metadata": {},
   "source": [
    "# 华东师范大学计算机科学技术系作业\n",
    "\n",
    " | 华东师范大学计算机科学技术系作业 | |\n",
    ":- | :- | :- \n",
    " 课程名称：编程导论Python | 年级：2018级| 作业成绩：\n",
    " 指导教师：杨燕 | 姓名：吴子靖  |  提交作业日期：2018年11月7日  \n",
    " 专业：计算机系 | 学号：10185102141  |  作业编号： 5\n",
    " -----------------------------"
   ]
  },
  {
   "cell_type": "markdown",
   "metadata": {},
   "source": [
    "一、 请利用所学知识，将下面的“不完美函数”改写成完美函数。\n",
    "~~~\n",
    "#<程序：“不完美函数”> \n",
    "res \n",
    "def add(a,b): \n",
    "    a = a*b; res = a+b\n",
    "add(2,3) \n",
    "print(\"最终结果为：\",res)\n",
    "~~~\n",
    "（10分）"
   ]
  },
  {
   "cell_type": "code",
   "execution_count": 16,
   "metadata": {},
   "outputs": [
    {
     "name": "stdout",
     "output_type": "stream",
     "text": [
      "最终结果为: 9\n"
     ]
    }
   ],
   "source": [
    "def add(a,b):\n",
    "    a=a*b\n",
    "    res=a+b\n",
    "    return res\n",
    "result=add(2,3)\n",
    "print(\"最终结果为:\",result)"
   ]
  },
  {
   "cell_type": "markdown",
   "metadata": {},
   "source": [
    "二、\t改写本章 3.1.2 部分<程序：参数与返回值举例>中的 find 函数，使其可以实现新的功能：查找序列中是否有字符‘f’，若有，则返回 True 与一个 列表，列表中记录所有字符 f 所在的索引；若无，则返回 False 与空列表。<br/>\n",
    "    例如，对于'abeffestffe'；返回 True, [3,4,8,9]。 <br/>\n",
    "    例如，对于[23,4,6,'e']；返回 False, []。<br/>\n",
    "（10分）"
   ]
  },
  {
   "cell_type": "code",
   "execution_count": 11,
   "metadata": {},
   "outputs": [
    {
     "name": "stdout",
     "output_type": "stream",
     "text": [
      "True [3, 4, 8, 9]\n",
      "False []\n"
     ]
    }
   ],
   "source": [
    "def find(str1,str2):\n",
    "    i=0;L=[]\n",
    "    while i<len(str1):\n",
    "        if str1[i]==str2:\n",
    "            L.append(i)\n",
    "        i=i+1\n",
    "    if L==[]:\n",
    "        return (False,L)\n",
    "    else:\n",
    "        return (True,L)\n",
    "a,b=find(\"abeffestffe\",\"f\")\n",
    "c,d=find([23,4,6,\"e\"],\"f\")\n",
    "print(a,b)\n",
    "print(c,d)"
   ]
  },
  {
   "cell_type": "markdown",
   "metadata": {},
   "source": [
    "三、这个程序，将会输出什么？在 g-func()中哪些是局部变量？\n",
    "~~~\n",
    "#<程序：局部变量与全局变量举例> \n",
    "b, c=2, 4 \n",
    "def g_func(d): \n",
    "    global a ; a=d*c\n",
    "g_func(b) ; print(a)\n",
    "~~~\n",
    "（10分）"
   ]
  },
  {
   "cell_type": "markdown",
   "metadata": {
    "collapsed": true
   },
   "source": []
  },
  {
   "cell_type": "code",
   "execution_count": 18,
   "metadata": {},
   "outputs": [
    {
     "name": "stdout",
     "output_type": "stream",
     "text": [
      "8\n"
     ]
    }
   ],
   "source": [
    "b,c=2,4\n",
    "def g_func(d):\n",
    "    global a\n",
    "    a=d*c\n",
    "g_func(b)\n",
    "print(a)\n",
    "#a使用了global函数，b，c在函数外的等号左侧，所以abc均为全局变量，而d是函数内的变量，所以只有d是局部变量"
   ]
  },
  {
   "cell_type": "markdown",
   "metadata": {},
   "source": [
    "四、局部与全局变量练习。请分析<程序：四则运算例子>的执行过程，并说明输出结果。\n",
    "~~~\n",
    "#<程序：四则运算例子> \n",
    "def do_div(a, b): \n",
    "    c=a/b                #a, b, c 都是 do_div()中的局部变量 \n",
    "    print (c); return c \n",
    "def do_mul(a, b):      \n",
    "    global c ; c=a*b     #a, b 是 do_mul()的局部变量，c 是全局变量 \n",
    "    print (c) ; return c \n",
    "def do_sub(a, b):        \n",
    "    c=a-b                 #a, b, c 都是 do_sub()中的局部变量 \n",
    "    c=do_mul(c, c)      \n",
    "    c=do_div(c, 2)      \n",
    "    print (c); return c           \n",
    "def do_add(a, b):        #参数 a 和 b 是 do_add()中的局部变量 \n",
    "    global c            \n",
    "    c=a + b              #全局变量 c，修改了 c 的值 \n",
    "    c=do_sub(c, 1)       #再次修改了全局变量 c 的值 \n",
    "    print (c)          \n",
    "#所有函数外先执行: \n",
    "a=3                      #全局变量 a \n",
    "b=2                      #全局变量 b \n",
    "c=1                      #全局变量 c \n",
    "do_add(a, b)             #全局变量 a 和 b 作为参数传递给 do_add() \n",
    "print (c)                #全局变量 c \n",
    "~~~\n",
    "（10分）"
   ]
  },
  {
   "cell_type": "markdown",
   "metadata": {
    "collapsed": true
   },
   "source": [
    "执行do_add函数，c=1是全局变量，c=a+b=5\n",
    "再执行do_sub函数，此时的c是局部变量，为方便说明，记录为c1\n",
    "c1=c-1=4,此时再执行do_mul函数，c=c1*c1=4*4=16,输出此时的c=16，并将c=16返回给c1\n",
    "然后执行do_div函数，局部变量c2=c1/2=8,输出此时的c2=8,并将c2=8返回给c1\n",
    "然后再回到do_sub函数，再次输出c1=8，并将c1=8返回给全局变量c\n",
    "然后回到do_add函数，再次输出c=8\n",
    "然后执行最后的print语句，输出c=8"
   ]
  },
  {
   "cell_type": "code",
   "execution_count": 19,
   "metadata": {},
   "outputs": [
    {
     "name": "stdout",
     "output_type": "stream",
     "text": [
      "16\n",
      "8.0\n",
      "8.0\n",
      "8.0\n",
      "8.0\n"
     ]
    }
   ],
   "source": [
    "def do_div(a,b):\n",
    "    c=a/b\n",
    "    print(c);return c\n",
    "def do_mul(a,b):\n",
    "    global c;c=a*b\n",
    "    print(c);return c\n",
    "def do_sub(a,b):\n",
    "    c=a-b\n",
    "    c=do_mul(c,c)\n",
    "    c=do_div(c,2)\n",
    "    print(c);return c\n",
    "def do_add(a,b):\n",
    "    global c\n",
    "    c=a+b\n",
    "    c=do_sub(c,1)\n",
    "    print(c)\n",
    "a=3;b=2;c=1\n",
    "do_add(a,b)\n",
    "print(c)"
   ]
  },
  {
   "cell_type": "markdown",
   "metadata": {},
   "source": [
    "五、修改习题 3.4 中的<程序：四则运算例子>，去掉 do_add()中的 global c 语句，分析程序将会输出什么？\n",
    "\n",
    "（10分）"
   ]
  },
  {
   "cell_type": "markdown",
   "metadata": {
    "collapsed": true
   },
   "source": [
    "执行do_add函数，c=1是全局变量，此时的局部变量c1=a+b=5\n",
    "再执行do_sub函数，局部变量c2=c1-1=4\n",
    "此时再执行do_mul函数，全局变量c=c2*c2=4*4=16,输出此时的c=16，并将c=16返回给c2\n",
    "然后执行do_div函数，局部变量c3=c2/2=8,输出此时的c3=8，并将c3=8返回给c2\n",
    "然后再回到do_sub函数，再次输出c2=8，并将c2=8返回给c1\n",
    "然后回到do_add函数，再次输出c1=8\n",
    "然后执行最后的print语句，输出全局变量c=16"
   ]
  },
  {
   "cell_type": "code",
   "execution_count": 20,
   "metadata": {},
   "outputs": [
    {
     "name": "stdout",
     "output_type": "stream",
     "text": [
      "16\n",
      "8.0\n",
      "8.0\n",
      "8.0\n",
      "16\n"
     ]
    }
   ],
   "source": [
    "def do_div(a,b):\n",
    "    c=a/b\n",
    "    print(c);return c\n",
    "def do_mul(a,b):\n",
    "    global c;c=a*b\n",
    "    print(c);return c\n",
    "def do_sub(a,b):\n",
    "    c=a-b\n",
    "    c=do_mul(c,c)\n",
    "    c=do_div(c,2)\n",
    "    print(c);return c\n",
    "def do_add(a,b):\n",
    "    c=a+b\n",
    "    c=do_sub(c,1)\n",
    "    print(c)\n",
    "a=3;b=2;c=1\n",
    "do_add(a,b)\n",
    "print(c)"
   ]
  },
  {
   "cell_type": "markdown",
   "metadata": {},
   "source": [
    "六、嵌套函数中局部与全局变量的练习。分析<程序：嵌套函数局部与全 局变量练习>，每个变量分别是局部变量还是全局变量，同时说出打印结果。\n",
    "~~~\n",
    "#<程序：嵌套函数局部与全局变量练习> \n",
    "a=1;b=2 \n",
    "def fun(x): \n",
    "    def F(): \n",
    "        global a ;  a=x+y+b \n",
    "        return a \n",
    "    y=12 ; x=x+2 ; a=F() \n",
    "fun(b) \n",
    "print(\"Finally, a is: %d and b is: %d\"%(a,b))   \n",
    "~~~\n",
    "（10分）"
   ]
  },
  {
   "cell_type": "markdown",
   "metadata": {},
   "source": [
    "a,b在函数之外，是全局变量，x，y是函数内的等号左侧变量，是局部变量\n",
    "先执行fun（b）函数，y=12,局部变量b=全局变量b+2=2+2=4，函数内的b的值是4，但是函数外的b的值并没有被改变\n",
    "a=局部变量b+y+全局变量b=2+12+4=18，因为global的原因，函数内外的a的值均变为了18\n",
    "所以最终的输出结果，a=18，b仍=2"
   ]
  },
  {
   "cell_type": "code",
   "execution_count": 22,
   "metadata": {},
   "outputs": [
    {
     "name": "stdout",
     "output_type": "stream",
     "text": [
      "Finally, a is: 18 and b is: 2\n"
     ]
    }
   ],
   "source": [
    "a=1;b=2\n",
    "def fun(x):\n",
    "    def F():\n",
    "        global a;a=x+y+b\n",
    "        return a\n",
    "    y=12;x=x+2;a=F()\n",
    "fun(b)\n",
    "print(\"Finally, a is: %d and b is: %d\"%(a,b))"
   ]
  },
  {
   "cell_type": "markdown",
   "metadata": {},
   "source": [
    "七、假设一个列表为 L，则 L.reverse() 和 L[-1:-1-len(L):-1] 的差别在哪里？（10分）"
   ]
  },
  {
   "cell_type": "markdown",
   "metadata": {},
   "source": [
    "L.reverse()是将列表L本身进行反转，是没有返回值的\n",
    "而L[:-1:-1-len(L)-1:-1]是将L中的元素逆向遍历一遍，并依次复制到一个新列表中，是具有返回值的，列表本身没有改变"
   ]
  },
  {
   "cell_type": "code",
   "execution_count": 8,
   "metadata": {},
   "outputs": [
    {
     "name": "stdout",
     "output_type": "stream",
     "text": [
      "None\n",
      "[4, 3, 2, 1]\n"
     ]
    }
   ],
   "source": [
    "#L.reverse()是将列表L本身进行反转，是没有返回值的\n",
    "L=[1,2,3,4]\n",
    "a=L.reverse()\n",
    "print(a)\n",
    "print(L)"
   ]
  },
  {
   "cell_type": "code",
   "execution_count": 9,
   "metadata": {},
   "outputs": [
    {
     "name": "stdout",
     "output_type": "stream",
     "text": [
      "[4, 3, 2, 1]\n",
      "[1, 2, 3, 4]\n"
     ]
    }
   ],
   "source": [
    "#而L[:-1:-1-len(L)-1:-1]是将L中的元素逆向遍历一遍，并依次复制到一个新列表中，是具有返回值的，列表本身没有改变\n",
    "L=[1,2,3,4]\n",
    "a=L[-1:-1-len(L):-1]\n",
    "print(a)\n",
    "print(L)"
   ]
  },
  {
   "cell_type": "markdown",
   "metadata": {},
   "source": [
    "八、假设一个列表为 L ，我们知道 L.remove(x) 是除去 L 中第一个值为 x 的元素，那么要除去 L 中所有是 x 的元素，要怎么办？（10分）"
   ]
  },
  {
   "cell_type": "code",
   "execution_count": 1,
   "metadata": {},
   "outputs": [
    {
     "name": "stdout",
     "output_type": "stream",
     "text": [
      "[2, 3, 4, 5, 6, 7, 8, 43, 97, 571]\n"
     ]
    }
   ],
   "source": [
    "#先遍历一遍L，查出x的数量，再用n次remove\n",
    "L=[1,2,3,4,1,5,6,7,1,8,43,1,97,1,571,1]#假设去掉所有1的元素\n",
    "i=0\n",
    "for e in L:\n",
    "    if e==1:\n",
    "        i=i+1\n",
    "while i!=0:\n",
    "    L.remove(1)\n",
    "    i=i-1\n",
    "print(L)"
   ]
  },
  {
   "cell_type": "markdown",
   "metadata": {},
   "source": [
    "九、如何用 L.insert(i,x) 实现 L.append(x)?（10分）"
   ]
  },
  {
   "cell_type": "code",
   "execution_count": 2,
   "metadata": {},
   "outputs": [
    {
     "name": "stdout",
     "output_type": "stream",
     "text": [
      "[1, 2, 3, 4, 5, 6, 7, 8, 9]\n",
      "[1, 2, 3, 4, 5, 6, 7, 8, 9]\n"
     ]
    }
   ],
   "source": [
    "#令i=len(L),例如\n",
    "L=[1,2,3,4,5,6,7,8]\n",
    "L1=L[:]\n",
    "L.append(9)\n",
    "L1.insert(len(L),9)\n",
    "print(L)\n",
    "print(L1)"
   ]
  },
  {
   "cell_type": "markdown",
   "metadata": {},
   "source": [
    "十、利用 for 循环将一个字符串列表的双重倒转。给定一个字符串列表， 将整个序列倒转，同时每个字符串元素也要倒转，输出倒转后的列表。<br>\n",
    "比如 L=['It  is','very  very','funny','!'] ； 则 完 全 倒 转 的 结 果 为 L_new=['!','ynnuf','yrev yrev','si tI']。\n",
    "（10分）"
   ]
  },
  {
   "cell_type": "code",
   "execution_count": 1,
   "metadata": {},
   "outputs": [
    {
     "data": {
      "text/plain": [
       "['!', 'ynnuf', 'yrev yrev', 'si tI']"
      ]
     },
     "execution_count": 1,
     "metadata": {},
     "output_type": "execute_result"
    }
   ],
   "source": [
    "L=[\"It is\",\"very very\",\"funny\",\"!\"]\n",
    "i=0\n",
    "while i<len(L):\n",
    "    L[i]=L[i][::-1]\n",
    "    i=i+1\n",
    "L_new=L[::-1]\n",
    "L_new"
   ]
  }
 ],
 "metadata": {
  "kernelspec": {
   "display_name": "Python 3",
   "language": "python",
   "name": "python3"
  },
  "language_info": {
   "codemirror_mode": {
    "name": "ipython",
    "version": 3
   },
   "file_extension": ".py",
   "mimetype": "text/x-python",
   "name": "python",
   "nbconvert_exporter": "python",
   "pygments_lexer": "ipython3",
   "version": "3.6.5"
  }
 },
 "nbformat": 4,
 "nbformat_minor": 2
}
