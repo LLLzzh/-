{
 "cells": [
  {
   "cell_type": "markdown",
   "metadata": {},
   "source": [
    "# 华东师范大学计算机科学技术系作业\n",
    "\n",
    " | 华东师范大学计算机科学技术系作业 | |\n",
    ":- | :- | :- \n",
    " 课程名称：编程导论Python | 年级：2018级| 作业成绩：\n",
    " 指导教师：杨燕 | 姓名：吴子靖  |  提交作业日期：2018年12月20日  \n",
    " 专业：计算机系 | 学号：10185102141 |  作业编号： 10\n",
    " -----------------------------"
   ]
  },
  {
   "cell_type": "markdown",
   "metadata": {},
   "source": [
    "一、请证明当T(n) = $2T(n/2) + n$ ，T(1) = 0时，T(n) = $nlog_2n$，假设n是2的指数倍。\n",
    "<br/>\n",
    "（20分）"
   ]
  },
  {
   "cell_type": "markdown",
   "metadata": {
    "collapsed": true
   },
   "source": [
    "数学归纳法：\n",
    "\n",
    "（1）$T=1时，1*log_2n=1*0=0$,假设成立\n",
    "\n",
    "（2）$假设 n=k时，结论成立，那么有T(k)=klog_2k$\n",
    " \n",
    " $那么n=2k时，T(2k)=2*T(k)+2k=2*k*log_2k+2k=2k(log_2k+1)=2k*[log_2(k*2)]=2klog_2(2k)$\n",
    " \n",
    " 等式成立\n",
    " \n",
    " 综合(1),(2)可知，结论成立，证毕"
   ]
  },
  {
   "cell_type": "markdown",
   "metadata": {},
   "source": [
    "二、当T(n) = $T(n/2) + 1$ ，T(1) = 0时，假设 n 是2的指数倍，T(n)的多项式是什么？\n",
    "<br/>\n",
    "（20分）"
   ]
  },
  {
   "cell_type": "markdown",
   "metadata": {},
   "source": [
    "$叠加法：$\n",
    "\n",
    "$T(n)-T(n/2)=1$\n",
    "\n",
    "$T(n/2)-T(n/4)=1$\n",
    "\n",
    "$T(n/4)-T(n/8)=1$\n",
    "\n",
    "$……$\n",
    "\n",
    "$T(2)-T(1)=1$\n",
    "\n",
    "$全部相加，得T(n)-T(1)=log_2n$\n",
    "\n",
    "$又因为T(1)=0$\n",
    "\n",
    "$所以T(n)=log_2n$\n"
   ]
  },
  {
   "cell_type": "markdown",
   "metadata": {},
   "source": [
    "三、分析用二分法的递归方式求$1+2+......+n$的开销。为什么开销的增长趋势都是以函数n的方式增长？假设T(n)代表其开销，那么T(n)的递归关系式是什么？\n",
    "<br/>\n",
    "（20分）"
   ]
  },
  {
   "cell_type": "markdown",
   "metadata": {},
   "source": [
    "$n个元素首先要二分成n个单独的数，所用次数为$log_2(n)$\n",
    "\n",
    "$所以是以函数n的方式增长，如果n翻倍，那么还要将最后两个数据再比一次，所以T(n)=T(n/2)+1$"
   ]
  },
  {
   "cell_type": "markdown",
   "metadata": {},
   "source": [
    "四、已知角谷定理：输入一个自然数，若为偶数，则把它除以2，若为奇数，则把它乘以3加1，经过如此有限次运算后，总可以得到自然数1。用递归方式实现：输入任意一个自然数，输出经过多少次可以得到自然数1。\n",
    "<br/>\n",
    "（20分）"
   ]
  },
  {
   "cell_type": "code",
   "execution_count": 7,
   "metadata": {},
   "outputs": [
    {
     "name": "stdout",
     "output_type": "stream",
     "text": [
      "请输入一个自然数:1024\n",
      "10\n"
     ]
    }
   ],
   "source": [
    "count = 0\n",
    "def f(n):\n",
    "    global count\n",
    "    if n == 1:\n",
    "        return\n",
    "    count += 1\n",
    "    if n % 2 == 0:\n",
    "        return f(n//2)\n",
    "    return f(3*n+1)\n",
    "n = int(input(\"请输入一个自然数:\"))\n",
    "f(n)\n",
    "print(count)"
   ]
  },
  {
   "cell_type": "markdown",
   "metadata": {},
   "source": [
    "五、请用非递归方式实现归并排序。\n",
    "<br/>\n",
    "（20分）"
   ]
  },
  {
   "cell_type": "code",
   "execution_count": 8,
   "metadata": {},
   "outputs": [
    {
     "name": "stdout",
     "output_type": "stream",
     "text": [
      "[1, 2, 3, 4, 5, 6, 7, 8, 9]\n"
     ]
    }
   ],
   "source": [
    "L1 = [3,9,7,6];L2 = [4,2,1,8,5]\n",
    "L = []\n",
    "def select_sort(l):\n",
    "    for m in range(len(l)):\n",
    "        for k in range(m,len(l)):\n",
    "            if l[k] < l[m]:\n",
    "                l[k],l[m] = l[m],l[k]\n",
    "    return l\n",
    "L1 = select_sort(L1)\n",
    "L2 = select_sort(L2)\n",
    "i = 0;j = 0\n",
    "while i < len(L1) and j < len(L2):\n",
    "    if L1[i] < L2[j]:\n",
    "        L.append(L1[i])\n",
    "        i += 1\n",
    "    else:\n",
    "        L.append(L2[j])\n",
    "        j += 1\n",
    "if i == len(L1):\n",
    "    L += L2[j:]\n",
    "else:\n",
    "    L += L1[i:]\n",
    "print(L)"
   ]
  }
 ],
 "metadata": {
  "kernelspec": {
   "display_name": "Python 3",
   "language": "python",
   "name": "python3"
  },
  "language_info": {
   "codemirror_mode": {
    "name": "ipython",
    "version": 3
   },
   "file_extension": ".py",
   "mimetype": "text/x-python",
   "name": "python",
   "nbconvert_exporter": "python",
   "pygments_lexer": "ipython3",
   "version": "3.6.5"
  }
 },
 "nbformat": 4,
 "nbformat_minor": 2
}
