{
 "cells": [
  {
   "cell_type": "markdown",
   "metadata": {},
   "source": [
    "# 华东师范大学计算机科学技术系作业\n",
    "\n",
    " | 华东师范大学计算机科学技术系作业 | |\n",
    ":- | :- | :- \n",
    " 课程名称：编程导论Python | 年级：2018级| 作业成绩：\n",
    " 指导教师：杨燕 | 姓名：黎明  |  提交作业日期：2018年11月29日  \n",
    " 专业：计算机系 | 学号：***********  |  作业编号： 7\n",
    " -----------------------------"
   ]
  },
  {
   "cell_type": "markdown",
   "metadata": {},
   "source": [
    "一、异常处理练习。假设输入一组任意长度列表，我们要对该列表中第10个元素进行加1操作，请利用try-except模型自己实现一个异常处理，可以捕获IndexError异常。\n",
    "<br/>\n",
    "（15分）"
   ]
  },
  {
   "cell_type": "code",
   "execution_count": null,
   "metadata": {
    "collapsed": true
   },
   "outputs": [],
   "source": []
  },
  {
   "cell_type": "markdown",
   "metadata": {},
   "source": [
    "二、\t用二分法的递归方式求n个元素列表的最大值和最小值，改写本章的<程序：求数列最大最小值——二分法>，传递参数时不用分片，而是用它在原来列表的索引及长度。然后分析程序的开销，开销的增长趋势是什么？\n",
    "<br/>\n",
    "（15分）"
   ]
  },
  {
   "cell_type": "code",
   "execution_count": null,
   "metadata": {
    "collapsed": true
   },
   "outputs": [],
   "source": []
  },
  {
   "cell_type": "markdown",
   "metadata": {},
   "source": [
    "分析："
   ]
  },
  {
   "cell_type": "markdown",
   "metadata": {},
   "source": [
    "三、用二分法的递归方式实现求给定数列L中所有元素的平均数。例如给定数列L=[12,32,45,78,22]，则该数列平均数为(12+32+45+78+22)/5=37.8。\n",
    "<br/>\n",
    "（15分）"
   ]
  },
  {
   "cell_type": "code",
   "execution_count": null,
   "metadata": {
    "collapsed": true
   },
   "outputs": [],
   "source": []
  },
  {
   "cell_type": "markdown",
   "metadata": {},
   "source": [
    "四、用递归方法实现求给定正整数n的阶乘n!。例如n=3，则n的阶乘为$1*2*3=6$。\n",
    "<br/>\n",
    "（15分）"
   ]
  },
  {
   "cell_type": "code",
   "execution_count": null,
   "metadata": {
    "collapsed": true
   },
   "outputs": [],
   "source": []
  },
  {
   "cell_type": "markdown",
   "metadata": {},
   "source": [
    "五、用递归方法实现求给定列表L中所有元素的最小值。如L=[11,15,9,14,8,5]，则最小数为5。\n",
    "<br/>\n",
    "（15分）"
   ]
  },
  {
   "cell_type": "code",
   "execution_count": null,
   "metadata": {
    "collapsed": true
   },
   "outputs": [],
   "source": []
  },
  {
   "cell_type": "markdown",
   "metadata": {},
   "source": [
    "六、调用import time库，编写一个程序能测试<程序：非递归实现my_remove>和它的较好程序的时间差异。建议所要删除的元素是一个长列表的最后一个。\n",
    "<br/>\n",
    "（15分）"
   ]
  },
  {
   "cell_type": "code",
   "execution_count": null,
   "metadata": {
    "collapsed": true
   },
   "outputs": [],
   "source": []
  },
  {
   "cell_type": "markdown",
   "metadata": {},
   "source": [
    "七、解释<程序：递归实现my_remove2使用二分法>的终止条件，为何要考虑长度为1的情形？\n",
    "<br/>\n",
    "（10分）"
   ]
  },
  {
   "cell_type": "markdown",
   "metadata": {},
   "source": []
  }
 ],
 "metadata": {
  "kernelspec": {
   "display_name": "Python 3",
   "language": "python",
   "name": "python3"
  },
  "language_info": {
   "codemirror_mode": {
    "name": "ipython",
    "version": 3
   },
   "file_extension": ".py",
   "mimetype": "text/x-python",
   "name": "python",
   "nbconvert_exporter": "python",
   "pygments_lexer": "ipython3",
   "version": "3.6.3"
  }
 },
 "nbformat": 4,
 "nbformat_minor": 2
}
