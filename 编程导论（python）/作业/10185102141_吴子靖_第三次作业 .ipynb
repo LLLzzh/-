{
 "cells": [
  {
   "cell_type": "markdown",
   "metadata": {},
   "source": [
    "# 华东师范大学计算机科学技术系作业\n",
    "\n",
    " | 华东师范大学计算机科学技术系作业 | |\n",
    ":- | :- | :- \n",
    " 课程名称：编程导论Python | 年级：2018级| 作业成绩：\n",
    " 指导教师：杨燕 | 姓名：吴子靖  |  提交作业日期：2018年10月13日  \n",
    " 专业：计算机系 | 学号：10185102141 |  作业编号： 2\n",
    " -----------------------------"
   ]
  },
  {
   "cell_type": "markdown",
   "metadata": {},
   "source": [
    "一、 编写一个Python 程序，计算 $1^4+2^4+3^4+...+(n-1)^4+n^4$ 的结果。（15分）"
   ]
  },
  {
   "cell_type": "code",
   "execution_count": 2,
   "metadata": {
    "scrolled": true
   },
   "outputs": [
    {
     "name": "stdout",
     "output_type": "stream",
     "text": [
      "100\n",
      "2050333330\n"
     ]
    }
   ],
   "source": [
    "i=1\n",
    "n=int(input())\n",
    "a=0\n",
    "while i<=n:\n",
    "    a=a+(i**4)\n",
    "    i=i+1\n",
    "print(a)\n",
    "    "
   ]
  },
  {
   "cell_type": "markdown",
   "metadata": {},
   "source": [
    "二、\t在全班50 名同学中征集慈善募捐活动，预计要捐善款一万元，每个同学捐款数目不定，当捐款总数大于等于一万元之后停止捐款。编写一个Python\n",
    "程序，统计此时捐款人数以及平均捐款数目。\n",
    "<br/>\n",
    "输入：依次输入每个同学的捐款钱数，总数大于等于一万停止；\n",
    "<br/>\n",
    "输出：两个数N 和A，分别代表捐款人数和平均捐款数。\n",
    "<br/>\n",
    "（15分）"
   ]
  },
  {
   "cell_type": "code",
   "execution_count": 1,
   "metadata": {},
   "outputs": [
    {
     "name": "stdout",
     "output_type": "stream",
     "text": [
      "此时捐款人数是 38\n",
      "平均捐款数是 265.7894736842105\n"
     ]
    }
   ],
   "source": [
    "L=[100,200,300,400,300,200,500,200,100,200,300,400,300,200,500,200,100,200,300,400,300,200,500,200,100,200,300,400,300,200,500,200,100,200,300,400,300,200,500,200,100,200,300,400,300,200,500,200,100,700]\n",
    "n=50\n",
    "Sum=0\n",
    "i=0\n",
    "while Sum<10000 and i<n:\n",
    "    Sum=Sum+L[i]\n",
    "    i=i+1\n",
    "if Sum<10000:\n",
    "    print(\"此次捐款总数不足一万\")\n",
    "else:\n",
    "    N=i+1\n",
    "    A=Sum/N\n",
    "    print(\"此时捐款人数是\",N)\n",
    "    print(\"平均捐款数是\",A)\n"
   ]
  },
  {
   "cell_type": "markdown",
   "metadata": {},
   "source": [
    "三、\t有三门课外兴趣班，分别是篮球班，羽毛球班和足球班，一个班级里每个同学都至少要选一门。现在将选课程的同学名单用列表表示L1（篮球班名单），L2（羽毛球班名单），L3（足球班名单），同学名称用拼音代替，如“XiaoMing”、“Lanlan”等，假设班级里没有重名的学生。编写一个Python程序，打印该班级同学名单，并求出共有多少名同学？\n",
    "<br/>\n",
    "输入：列表L1，L2 和L3，列表中存的是同学名字\n",
    "<br/>\n",
    "输出：学生名单和学生总数\n",
    "<br/>\n",
    "（10分）"
   ]
  },
  {
   "cell_type": "code",
   "execution_count": 3,
   "metadata": {},
   "outputs": [
    {
     "name": "stdout",
     "output_type": "stream",
     "text": [
      "['Zztai', 'xiaoming', 'xiaohu', 'uzi', 'karsa', 'mlxg', 'letme'] 该班学生总数是 7\n"
     ]
    }
   ],
   "source": [
    "L1=[\"xiaoming\",\"xiaohu\",\"uzi\",\"karsa\"]\n",
    "L2=[\"uzi\",\"mlxg\",\"letme\",\"xiaohu\"]\n",
    "L3=[\"Zztai\",\"letme\",\"karsa\"]\n",
    "for e in L1:\n",
    "    if e in L2:\n",
    "        L2.remove(e)\n",
    "L4=L1+L2\n",
    "for i in L4:\n",
    "    if i in L3:\n",
    "        L3.remove(i)\n",
    "L=L3+L4\n",
    "print(L,\"该班学生总数是\",len(L))\n",
    "\n",
    "\n",
    "        "
   ]
  },
  {
   "cell_type": "markdown",
   "metadata": {},
   "source": [
    "四、\t编写一个Pyhton 程序，求200 到500 之间不能被3 整除但能被5 整除的所有数。（15分）"
   ]
  },
  {
   "cell_type": "code",
   "execution_count": 8,
   "metadata": {},
   "outputs": [
    {
     "name": "stdout",
     "output_type": "stream",
     "text": [
      "200 205 215 220 230 235 245 250 260 265 275 280 290 295 305 310 320 325 335 340 350 355 365 370 380 385 395 400 410 415 425 430 440 445 455 460 470 475 485 490 500 "
     ]
    }
   ],
   "source": [
    "a=3\n",
    "b=5\n",
    "i=200\n",
    "while b<200:\n",
    "    b=b+5\n",
    "b0=b\n",
    "while b0<=500:\n",
    "    if b0%3!=0:\n",
    "        print(b0,end=\" \")\n",
    "    b0=b0+5\n",
    "\n",
    "    "
   ]
  },
  {
   "cell_type": "markdown",
   "metadata": {},
   "source": [
    "五、\t编写一个Pyhton 程序，求三位数的整数中能被3 整除，且至少有一位是5 的所有数。（15分）"
   ]
  },
  {
   "cell_type": "code",
   "execution_count": 2,
   "metadata": {},
   "outputs": [
    {
     "name": "stdout",
     "output_type": "stream",
     "text": [
      "105 135 150 153 156 159 165 195 225 252 255 258 285 315 345 351 354 357 375 405 435 450 453 456 459 465 495 501 504 507 510 513 516 519 522 525 528 531 534 537 540 543 546 549 552 555 558 561 564 567 570 573 576 579 582 585 588 591 594 597 615 645 651 654 657 675 705 735 750 753 756 759 765 795 825 852 855 858 885 915 945 951 954 957 975 "
     ]
    }
   ],
   "source": [
    "n=100\n",
    "a=3\n",
    "while a<n:\n",
    "    a=a+3\n",
    "i=a\n",
    "while i<=999:\n",
    "    if ((i%5==0)and(i%10!=0)) or(499<i<600) or ((int(i/10)%5==0) and (int(i/10)%10!=0)):\n",
    "        print(i,end=\" \")\n",
    "    i=i+3\n",
    "        \n",
    "\n",
    "    \n",
    "    "
   ]
  },
  {
   "cell_type": "markdown",
   "metadata": {},
   "source": [
    "六、\t编写一个Pyhton 程序，输入一个大于3 的整数n，判断该数是否是素数（质数）。（15分）"
   ]
  },
  {
   "cell_type": "code",
   "execution_count": 7,
   "metadata": {},
   "outputs": [
    {
     "name": "stdout",
     "output_type": "stream",
     "text": [
      "302\n",
      "n不是质数\n"
     ]
    }
   ],
   "source": [
    "n=int(input())#n>3\n",
    "L=[]\n",
    "for i in range (1,n+1):\n",
    "    if n%i==0:\n",
    "        L=L+[i]\n",
    "if len(L)>2:\n",
    "    print(\"n不是质数\")\n",
    "else:\n",
    "    print(\"n是质数\")"
   ]
  },
  {
   "cell_type": "markdown",
   "metadata": {},
   "source": [
    "七、\t编写一个Pyhton 程序，求200 到500（包括500）之间的全部素数。（15分）"
   ]
  },
  {
   "cell_type": "code",
   "execution_count": 9,
   "metadata": {},
   "outputs": [
    {
     "name": "stdout",
     "output_type": "stream",
     "text": [
      "211 223 227 229 233 239 241 251 257 263 269 271 277 281 283 293 307 311 313 317 331 337 347 349 353 359 367 373 379 383 389 397 401 409 419 421 431 433 439 443 449 457 461 463 467 479 487 491 499 "
     ]
    }
   ],
   "source": [
    "n=200\n",
    "L=[]\n",
    "while n<=500:\n",
    "    for i in range (1,n+1):\n",
    "        if n%i==0:\n",
    "            L=L+[i]\n",
    "    if len(L)==2:\n",
    "        L=[]\n",
    "        print(n,end=\" \")\n",
    "    else:\n",
    "        L=[]\n",
    "    n=n+1"
   ]
  }
 ],
 "metadata": {
  "kernelspec": {
   "display_name": "Python 3",
   "language": "python",
   "name": "python3"
  },
  "language_info": {
   "codemirror_mode": {
    "name": "ipython",
    "version": 3
   },
   "file_extension": ".py",
   "mimetype": "text/x-python",
   "name": "python",
   "nbconvert_exporter": "python",
   "pygments_lexer": "ipython3",
   "version": "3.6.5"
  }
 },
 "nbformat": 4,
 "nbformat_minor": 2
}
