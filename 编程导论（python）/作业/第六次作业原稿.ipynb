{
 "cells": [
  {
   "cell_type": "markdown",
   "metadata": {},
   "source": [
    "# 华东师范大学计算机科学技术系作业\n",
    "\n",
    " | 华东师范大学计算机科学技术系作业 | |\n",
    ":- | :- | :- \n",
    " 课程名称：编程导论Python | 年级：2018级| 作业成绩：\n",
    " 指导教师：杨燕 | 姓名：黎明  |  提交作业日期：2018年11月7日  \n",
    " 专业：计算机系 | 学号：***********  |  作业编号： 5\n",
    " -----------------------------"
   ]
  },
  {
   "cell_type": "markdown",
   "metadata": {},
   "source": [
    "一、 请利用所学知识，将下面的“不完美函数”改写成完美函数。\n",
    "~~~\n",
    "#<程序：“不完美函数”> \n",
    "res \n",
    "def add(a,b): \n",
    "    a = a*b; res = a+b\n",
    "add(2,3) \n",
    "print(\"最终结果为：\",res)\n",
    "~~~\n",
    "（10分）"
   ]
  },
  {
   "cell_type": "code",
   "execution_count": null,
   "metadata": {
    "collapsed": true
   },
   "outputs": [],
   "source": []
  },
  {
   "cell_type": "markdown",
   "metadata": {},
   "source": [
    "二、\t改写本章 3.1.2 部分<程序：参数与返回值举例>中的 find 函数，使其可以实现新的功能：查找序列中是否有字符‘f’，若有，则返回 True 与一个 列表，列表中记录所有字符 f 所在的索引；若无，则返回 False 与空列表。<br/>\n",
    "    例如，对于'abeffestffe'；返回 True, [3,4,8,9]。 <br/>\n",
    "    例如，对于[23,4,6,'e']；返回 False, []。<br/>\n",
    "（10分）"
   ]
  },
  {
   "cell_type": "code",
   "execution_count": null,
   "metadata": {
    "collapsed": true
   },
   "outputs": [],
   "source": []
  },
  {
   "cell_type": "markdown",
   "metadata": {},
   "source": [
    "三、这个程序，将会输出什么？在 g-func()中哪些是局部变量？\n",
    "~~~\n",
    "#<程序：局部变量与全局变量举例> \n",
    "b, c=2, 4 \n",
    "def g_func(d): \n",
    "    global a ; a=d*c\n",
    "g_func(b) ; print(a)\n",
    "~~~\n",
    "（10分）"
   ]
  },
  {
   "cell_type": "markdown",
   "metadata": {
    "collapsed": true
   },
   "source": []
  },
  {
   "cell_type": "code",
   "execution_count": null,
   "metadata": {
    "collapsed": true
   },
   "outputs": [],
   "source": []
  },
  {
   "cell_type": "markdown",
   "metadata": {},
   "source": [
    "四、局部与全局变量练习。请分析<程序：四则运算例子>的执行过程，并说明输出结果。\n",
    "~~~\n",
    "#<程序：四则运算例子> \n",
    "def do_div(a, b): \n",
    "    c=a/b                #a, b, c 都是 do_div()中的局部变量 \n",
    "    print (c); return c \n",
    "def do_mul(a, b):      \n",
    "    global c ; c=a*b     #a, b 是 do_mul()的局部变量，c 是全局变量 \n",
    "    print (c) ; return c \n",
    "def do_sub(a, b):        \n",
    "    c=a-b                 #a, b, c 都是 do_sub()中的局部变量 \n",
    "    c=do_mul(c, c)      \n",
    "    c=do_div(c, 2)      \n",
    "    print (c); return c           \n",
    "def do_add(a, b):        #参数 a 和 b 是 do_add()中的局部变量 \n",
    "    global c            \n",
    "    c=a + b              #全局变量 c，修改了 c 的值 \n",
    "    c=do_sub(c, 1)       #再次修改了全局变量 c 的值 \n",
    "    print (c)          \n",
    "#所有函数外先执行: \n",
    "a=3                      #全局变量 a \n",
    "b=2                      #全局变量 b \n",
    "c=1                      #全局变量 c \n",
    "do_add(a, b)             #全局变量 a 和 b 作为参数传递给 do_add() \n",
    "print (c)                #全局变量 c \n",
    "~~~\n",
    "（10分）"
   ]
  },
  {
   "cell_type": "markdown",
   "metadata": {
    "collapsed": true
   },
   "source": []
  },
  {
   "cell_type": "code",
   "execution_count": null,
   "metadata": {
    "collapsed": true
   },
   "outputs": [],
   "source": []
  },
  {
   "cell_type": "markdown",
   "metadata": {},
   "source": [
    "五、修改习题 3.4 中的<程序：四则运算例子>，去掉 do_add()中的 global c 语句，分析程序将会输出什么？\n",
    "\n",
    "（10分）"
   ]
  },
  {
   "cell_type": "markdown",
   "metadata": {
    "collapsed": true
   },
   "source": []
  },
  {
   "cell_type": "code",
   "execution_count": null,
   "metadata": {
    "collapsed": true
   },
   "outputs": [],
   "source": []
  },
  {
   "cell_type": "markdown",
   "metadata": {},
   "source": [
    "六、嵌套函数中局部与全局变量的练习。分析<程序：嵌套函数局部与全 局变量练习>，每个变量分别是局部变量还是全局变量，同时说出打印结果。\n",
    "~~~\n",
    "#<程序：嵌套函数局部与全局变量练习> \n",
    "a=1;b=2 \n",
    "def fun(x): \n",
    "    def F(): \n",
    "        global a ;  a=x+y+b \n",
    "        return a \n",
    "    y=12 ; x=x+2 ; a=F() \n",
    "fun(b) \n",
    "print(\"Finally, a is: %d and b is: %d\"%(a,b))   \n",
    "~~~\n",
    "（10分）"
   ]
  },
  {
   "cell_type": "markdown",
   "metadata": {},
   "source": []
  },
  {
   "cell_type": "code",
   "execution_count": null,
   "metadata": {
    "collapsed": true
   },
   "outputs": [],
   "source": []
  },
  {
   "cell_type": "markdown",
   "metadata": {},
   "source": [
    "七、假设一个列表为 L，则 L.reverse() 和 L[-1:-1-len(L):-1] 的差别在哪里？（10分）"
   ]
  },
  {
   "cell_type": "markdown",
   "metadata": {},
   "source": []
  },
  {
   "cell_type": "code",
   "execution_count": null,
   "metadata": {
    "collapsed": true
   },
   "outputs": [],
   "source": []
  },
  {
   "cell_type": "markdown",
   "metadata": {},
   "source": [
    "八、假设一个列表为 L ，我们知道 L.remove(x) 是除去 L 中第一个值为 x 的元素，那么要除去 L 中所有是 x 的元素，要怎么办？（10分）"
   ]
  },
  {
   "cell_type": "markdown",
   "metadata": {},
   "source": []
  },
  {
   "cell_type": "code",
   "execution_count": null,
   "metadata": {
    "collapsed": true
   },
   "outputs": [],
   "source": []
  },
  {
   "cell_type": "markdown",
   "metadata": {},
   "source": [
    "九、如何用 L.insert(i,x) 实现 L.append(x)?（10分）"
   ]
  },
  {
   "cell_type": "code",
   "execution_count": null,
   "metadata": {
    "collapsed": true
   },
   "outputs": [],
   "source": []
  },
  {
   "cell_type": "markdown",
   "metadata": {},
   "source": [
    "十、利用 for 循环将一个字符串列表的双重倒转。给定一个字符串列表， 将整个序列倒转，同时每个字符串元素也要倒转，输出倒转后的列表。<br>\n",
    "比如 L=['It  is','very  very','funny','!'] ； 则 完 全 倒 转 的 结 果 为 L_new=['!','ynnuf','yrev yrev','si tI']。\n",
    "（10分）"
   ]
  },
  {
   "cell_type": "code",
   "execution_count": null,
   "metadata": {
    "collapsed": true
   },
   "outputs": [],
   "source": []
  }
 ],
 "metadata": {
  "kernelspec": {
   "display_name": "Python 3",
   "language": "python",
   "name": "python3"
  },
  "language_info": {
   "codemirror_mode": {
    "name": "ipython",
    "version": 3
   },
   "file_extension": ".py",
   "mimetype": "text/x-python",
   "name": "python",
   "nbconvert_exporter": "python",
   "pygments_lexer": "ipython3",
   "version": "3.6.3"
  }
 },
 "nbformat": 4,
 "nbformat_minor": 2
}
