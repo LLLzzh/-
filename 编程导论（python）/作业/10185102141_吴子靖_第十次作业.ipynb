{
 "cells": [
  {
   "cell_type": "markdown",
   "metadata": {},
   "source": [
    "# 华东师范大学计算机科学技术系作业\n",
    "\n",
    " | 华东师范大学计算机科学技术系作业 | |\n",
    ":- | :- | :- \n",
    " 课程名称：编程导论Python | 年级：2018级| 作业成绩：\n",
    " 指导教师：杨燕 | 姓名：吴子靖  |  提交作业日期：2018年12月13日  \n",
    " 专业：计算机系 | 学号：10185102141 |  作业编号： 9\n",
    " -----------------------------"
   ]
  },
  {
   "cell_type": "markdown",
   "metadata": {},
   "source": [
    "一、用递归和非递归两种方式实现list的内置函数 pop ，函数格式为 my_pop(L,i)。pop 函数将列表 L 中索引为 i 的元素弹出并返回其值。假设L=`[1, 2, 3]`，执行完 my_pop(1,2)后返回3以及新列表值`[1, 2]`。\n",
    "<br/>\n",
    "（20分）"
   ]
  },
  {
   "cell_type": "code",
   "execution_count": 1,
   "metadata": {},
   "outputs": [
    {
     "data": {
      "text/plain": [
       "(3, [1, 2])"
      ]
     },
     "execution_count": 1,
     "metadata": {},
     "output_type": "execute_result"
    }
   ],
   "source": [
    "#非递归实现list的pop函数\n",
    "def my_pop(L,i):\n",
    "    if 0 <= i< len(L):\n",
    "        return L[i],(L[0:i]+L[i+1:])\n",
    "    else:\n",
    "        print(\" Index out of range\")\n",
    "L = [1,2,3];i = 2\n",
    "my_pop(L,i)"
   ]
  },
  {
   "cell_type": "code",
   "execution_count": 18,
   "metadata": {},
   "outputs": [
    {
     "data": {
      "text/plain": [
       "(3, [1, 2])"
      ]
     },
     "execution_count": 18,
     "metadata": {},
     "output_type": "execute_result"
    }
   ],
   "source": [
    "#递归实现list的pop函数\n",
    "def my_pop_2(L,i):\n",
    "    if i >= len(L) or i < 0:\n",
    "        print(\"Index out of range\")\n",
    "    if i == 0:\n",
    "        return L[0],L[1:]\n",
    "    return 0+my_pop_2(L[1:],i-1)[0],[L[0]]+my_pop_2(L[1:],i-1)[1]\n",
    "L = [1,2,3];i = 2\n",
    "my_pop_2(L,i)"
   ]
  },
  {
   "cell_type": "markdown",
   "metadata": {},
   "source": [
    "二、\t用递归和非递归两种方式实现 String 的 isalpha 函数。实现的函数格式为 my_isalpha(S)，my_isalpha 函数会判断字符串是否全部由字母组成，例如S=`\"asd123\"`，在执行语句 my_isalpha(S) 后会返回False。\n",
    "<br/>\n",
    "（20分）"
   ]
  },
  {
   "cell_type": "code",
   "execution_count": 8,
   "metadata": {},
   "outputs": [
    {
     "name": "stdout",
     "output_type": "stream",
     "text": [
      "False\n",
      "True\n"
     ]
    }
   ],
   "source": [
    "#非递归实现 string的isalpha的函数\n",
    "def my_isalpha(s):\n",
    "    for e in s :\n",
    "        if \"a\" <= e <= \"z\" or \"A\" <= e <= \"Z\":\n",
    "            continue\n",
    "        else:\n",
    "            return False\n",
    "    return True\n",
    "s1=\"asd123\";s2=\"AbGh\"\n",
    "print(my_isalpha(s1))\n",
    "print(my_isalpha(s2))"
   ]
  },
  {
   "cell_type": "code",
   "execution_count": 9,
   "metadata": {},
   "outputs": [
    {
     "name": "stdout",
     "output_type": "stream",
     "text": [
      "False\n",
      "True\n"
     ]
    }
   ],
   "source": [
    "#递归实现 string的isalpha的函数\n",
    "def my_isalpha_2(s):\n",
    "    if len(s) == 1:\n",
    "        if \"a\" <= s[0] <= \"z\" or \"A\" <= s[0] <= \"Z\":\n",
    "            return True\n",
    "    return (my_isalpha_2(s[0]) and my_isalpha_2(s[1:]))\n",
    "s1=\"asd123\";s2=\"AbGh\"\n",
    "print(my_isalpha(s1))\n",
    "print(my_isalpha(s2))"
   ]
  },
  {
   "cell_type": "markdown",
   "metadata": {},
   "source": [
    "三、给定一个整数列表 L，输出一个列表 S，其中 S[i]=L[0] 到 L[i] 的和。例如 L=`[1,2,4,2]` ，则输出 S=`[1,3,7,9]`。用简单递归方法实现此程序，再用二分递归方式来实现此程序。\n",
    "<br/>\n",
    "（20分）"
   ]
  },
  {
   "cell_type": "code",
   "execution_count": 12,
   "metadata": {},
   "outputs": [
    {
     "name": "stdout",
     "output_type": "stream",
     "text": [
      "[1, 3, 7, 9]\n"
     ]
    }
   ],
   "source": [
    "#简单递归\n",
    "def s(L):\n",
    "    if len(L) == 1:\n",
    "        return [L[0]]\n",
    "    return s(L[0:len(L)-1]) + [sum(L)]\n",
    "L = [1,2,4,2]\n",
    "print(s(L))"
   ]
  },
  {
   "cell_type": "code",
   "execution_count": 37,
   "metadata": {},
   "outputs": [
    {
     "name": "stdout",
     "output_type": "stream",
     "text": [
      "[1, 3, 7, 9]\n"
     ]
    }
   ],
   "source": [
    "#二分法递归\n",
    "def s_2(L):\n",
    "    if len(L) == 1:\n",
    "        return [L[0]]\n",
    "    L[len(L)//2] += sum(L[:len(L)//2])\n",
    "    return s_2(L[:len(L)//2]) + s_2(L[len(L)//2:])\n",
    "L = [1,2,4,2]\n",
    "print(s_2(L))"
   ]
  },
  {
   "cell_type": "markdown",
   "metadata": {},
   "source": [
    "四、假设有4种钱币：1分钱、5分钱、10分钱和25分钱。请问100分钱有多少种不同钱币的组合方式？例如：5分钱有两种组合方式：5个1分钱和1个5分钱；10分钱有4种组合方式：10个1分钱，2个5分钱，5个1分钱加上1个5分钱，1个10分钱。请先写出递归关系式。\n",
    "<br/>\n",
    "（20分）"
   ]
  },
  {
   "cell_type": "code",
   "execution_count": 15,
   "metadata": {},
   "outputs": [
    {
     "name": "stdout",
     "output_type": "stream",
     "text": [
      "100的组合方式为: 193\n"
     ]
    }
   ],
   "source": [
    "#5分钱有两种组合方式，6分到9分的组合方式等价于5分的组合方式+1、2、3、4的组合方式，而这些不是5的倍数的面值只有一种组合方式，因此与5分的组合方式\n",
    "#相同，所以对于一个不是5的倍数的正整数x，他的组合方式与（x//5）*5d的组合方式相等，因此现在只讨论5的倍数的组合方式\n",
    "#先通过枚举找规律\n",
    "#5分钱有1个5分，5个1分一共2张组合方式\n",
    "#10分有10个1分钱，2个5分钱，5个1分钱加上1个5分钱，1个10分钱4种组合方式\n",
    "#15分有15个1分，10个1分和1个5分，5个1分和2个5分，5个1分和1个10分，3个5分，1个5分和1个10分一共6种组合方式\n",
    "#20分有20个1分，15个1分和1个5分，10个1分和2个5分，10个1分和1个10分，5个1分和3个5分，5个1分和1个10分和1个5分，4个5分，2个5分和1个10分，2个10分\n",
    "#一共9种组合方式\n",
    "#25分有25个1分，20个1分和1个5分，15个1分和2个5分，15个1分和1个10分，10个1分和3个5分，10个1分和1个5分和1个10分，5个1分和4个5分，\n",
    "#5个1分和2个5分和1个10分，5个1分和2个10分，5个5分，3个5分和1个10分，1个5分和2个10分，1个25分，一共13种组合方式\n",
    "#30分有30个1分,25个1分和1个5分,20个1分和2个5分，20个1分和1个10分，15个1分和3个5分，15个1分和1个5分和1个10分，10个1分和4个5分，10个1分和2个5分\n",
    "#和1个10分，10个1分和2个10分，5个1分和5个5分，5个1分和3个5分和1个10分，5个1分和1个5分和2个10分，5个1分和1个25分，6个5分，4个5分和1个10分，2个\n",
    "#5分和2个10分，1个5分和1个25分，3个10分一共18种方法\n",
    "#不难发现 f(n)=f(n-5)+((n-5)//5)\n",
    "def f(n):\n",
    "    if n%5 != 0:\n",
    "        n = (n//5)*5\n",
    "    if n == 5:\n",
    "        return 2\n",
    "    if n == 10:\n",
    "        return 4\n",
    "    return f(n-5)+((n-5)//5)\n",
    "print(\"100的组合方式为:\",f(100))"
   ]
  },
  {
   "cell_type": "markdown",
   "metadata": {},
   "source": [
    "五、用递归方式将一个多层嵌套 list 展开成一层，以 list=`['and','B',['not','A'],[1,2,1,[2,1],[1,1,[2,2,1]]],['not','A','A'],['or','A','B','A'],'B']`为例，则 list 展开结果为`['and','B','not','A',1,2,1,2,1,1,1,2,2,1,'not','A','A','or','A','B','A','B']`。\n",
    "<br/>\n",
    "（20分）"
   ]
  },
  {
   "cell_type": "code",
   "execution_count": 48,
   "metadata": {},
   "outputs": [
    {
     "name": "stdout",
     "output_type": "stream",
     "text": [
      "['and', 'B', 'not', 'A', 1, 2, 1, 2, 1, 1, 1, 2, 2, 1, 'not', 'A', 'A', 'or', 'A', 'B', 'A', 'B']\n"
     ]
    }
   ],
   "source": [
    "def transform(L):\n",
    "    if len(L)<2 and type(L[0]) != list:\n",
    "        return [L[0]]\n",
    "    elif len(L)<2 and type(L[0]) == list:\n",
    "        return transform(L[0])\n",
    "    if type(L[0]) != list:\n",
    "        return ([L[0]] + transform(L[1:]))\n",
    "    return transform(L[0]) + transform(L[1:])\n",
    "L=['and','B',['not','A'],[1,2,1,[2,1],[1,1,[2,2,1]]],['not','A','A'],['or','A','B','A'],'B']\n",
    "print(transform(L))"
   ]
  }
 ],
 "metadata": {
  "kernelspec": {
   "display_name": "Python 3",
   "language": "python",
   "name": "python3"
  },
  "language_info": {
   "codemirror_mode": {
    "name": "ipython",
    "version": 3
   },
   "file_extension": ".py",
   "mimetype": "text/x-python",
   "name": "python",
   "nbconvert_exporter": "python",
   "pygments_lexer": "ipython3",
   "version": "3.6.5"
  }
 },
 "nbformat": 4,
 "nbformat_minor": 2
}
